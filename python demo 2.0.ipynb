{
 "cells": [
  {
   "cell_type": "markdown",
   "id": "00795a6a",
   "metadata": {},
   "source": [
    "<font face=\"Arial Black\" size=\"6\" color=green>Introductory Data Visualization With Python ver. 2.0</b></font>\n",
    "\n",
    "<font face=\"Arial Black\" color=green>GRAD 6340/8340  Data Analysis and Presentation for Impact</font></br>\n",
    "<font face=\"Arial Black\" color=green>Jenny Qi</font>"
   ]
  },
  {
   "cell_type": "markdown",
   "id": "5841ed65",
   "metadata": {},
   "source": [
    "##### Major changes in version 2.0:\n",
    "* Corrected coding errors in the lollipop charts\n",
    "* Replaced the iris dataset with the student funding dataset (artificially joined three different workbooks to prevent identifiable information). Please note that the results should not be interpreted too much\n",
    "* Modified the codes in **Part 3** so that each block can be run independently without following a specific order. However, all blocks in **Part 2** should be executed in sequence before proceeding to **Part 3**\n",
    "* Removed some redundant charts\n",
    "* Added **Section 11** for the statistical comparision of mean values among datasets\n",
    "* Added a double-layer donut chart to showcase some of Python's advanced plotting capabilities"
   ]
  },
  {
   "cell_type": "markdown",
   "id": "15f92239",
   "metadata": {},
   "source": [
    "<a id='top'></a>\n",
    "## <font face=\"Arial Black\" size=\"4\" color=goldenrod>Table of Contents</font>\n",
    "* [**Introduction**](#in)\n",
    "    * [What is Python?](#in-2)\n",
    "    * [It Doesn't Bite!](#in-3)\n",
    "    * [The Magic of Python](#in-4)\n",
    "    * [Overview](#in-1)\n",
    "    * [Test the Water with JupyterLab](#in-5)\n",
    "* [**Part 1. Getting Started with JupyterLab**](#Pre)\n",
    "    * [i. Cell Modes in Jupyter Lab](#Pre)\n",
    "    * [ii. Frequently Used Keyboard Shortcuts](#Pre-2)\n",
    "    * [iii. Now You Try It](#Pre-3)\n",
    "    * [iv. Troubleshoot Common Errors (definitely come back here when you see errors)](#Pre-4)\n",
    "* [**Part 2. Data Collection and Preparation**](#Main)    \n",
    "    * [0. Load the Data to JupyterLab](#Main-0)  \n",
    "    * [1. Import Necessray Libraries](#Main-1)\n",
    "    * [2. Load the Dataset and Define the Initial Variables](#Main-2)\n",
    "    * [3. First Glance](#Main-3)\n",
    "    * [4. A Closer Look](#Main-4)\n",
    "* [**Part 3. Exploring and Visualizing the Data**](#Main-3)  \n",
    "    * [5. Box Plots for Distribution](#Main-5)\n",
    "    * [6. Violin Plots](#Main-6)   \n",
    "    * [7. Histograms for Distribution Approximation](#Main-7)\n",
    "    * [8. Pie Chart](#Main-8)\n",
    "    * [9. Double-Layer Donut Chart ](#Main-8-d)\n",
    "    * [10. Lollipop Chart](#Main-9)\n",
    "    * [11. Comparison of Means](#Main-x-11) \n",
    "        * [11.1 Between Two Grous](#Main-x-111) \n",
    "            * [11.1.1 Student's t-test](#Main-x-111)\n",
    "            * [11.1.2 Welch's t-test](#Main-x-1112)\n",
    "        * [11.2 Among Three or More Groups](#Main-x-112)\n",
    "            * [11.2.1 One-Way ANOVA](#Main-x-112)\n",
    "            * [11.2.2 One-Way Welch ANOVA](#Main-x-1122)  \n",
    "    * [12. Correlations for Numerical Variables](#Main-10)\n",
    "        * [12.1 Scatter Plots](#Main-10)\n",
    "        * [12.2 Pairwise Scatter Plots](#Main-10-2)\n",
    "        * [12.3 Correlation Matrix for Numerical and Boolean Data](#Main-10-4)\n",
    "* [**Conclusion**](#Epi)\n",
    "* [**References & Image Sources**](#ref)"
   ]
  },
  {
   "cell_type": "markdown",
   "id": "f1a886b7",
   "metadata": {},
   "source": [
    "***\n",
    "<a id='in'></a>\n",
    "<font face=\"Script MT Bold\" size=\"6\" color=goldenrod> **Introduction** </font></br>"
   ]
  },
  {
   "cell_type": "markdown",
   "id": "e476931f",
   "metadata": {},
   "source": [
    "<a id='in-2'></a>\n",
    "### <font color=green>What is Python?</font>\n",
    "<img src='https://github.com/JQi-14/GRADDataAnalysis/blob/main/python.png?raw=true' width=700 align='left'>"
   ]
  },
  {
   "cell_type": "markdown",
   "id": "5dae67b0",
   "metadata": {},
   "source": [
    "<a id='in-3'></a>\n",
    "### <font color=green>It Doesn't Bite!</font>\n",
    "* <font size=\"3\" face='Calibri'>Allows batch-processing (get liberated from mundane labor work!) \n",
    "* <font size=\"3\" face='Calibri'>Handles massive datasets at ease\n",
    "* <font size=\"3\" face='Calibri'>Reduces human errors (once you code it right)\n",
    "* <font size=\"3\" face='Calibri'>Customizes the plots your way (or better)\n",
    "* <font size=\"3\" face='Calibri'>And so much more!"
   ]
  },
  {
   "cell_type": "markdown",
   "id": "874168eb",
   "metadata": {},
   "source": [
    "<a id='in-4'></a>\n",
    "### <font color=green>The Magic of Python</font>\n",
    "<img src='https://github.com/JQi-14/GRADDataAnalysis/blob/main/raw%20table.png?raw=true' width=400 align='left'>\n",
    "\n",
    "<img src='https://github.com/JQi-14/GRADDataAnalysis/blob/main/TSS.PNG?raw=true' width=400 align='left'>"
   ]
  },
  {
   "cell_type": "markdown",
   "id": "ce02fea3",
   "metadata": {},
   "source": [
    "<a id='in-1'></a>\n",
    "### <font color=green>Overview</font>\n",
    "\n",
    "* <font size=\"3\" face='Calibri'>Python is a powerful programming language that has become increasingly popular for data analysis and visualization. In this demonstration, we will introduce some basic Python scripts for these purposes, focusing on the use of Matplotlib for creating various types of plots.</font></br> \n",
    "\n",
    "\n",
    "* <font size=\"3\" face='Calibri'>$\\color{green}{\\text{Fear not!}}$ This class is not made to turn you into a professional coder. Rather, it is to introduce you to the world of Python programming and show you some of the amazing things it can do.  So sit back, relax, and get ready to have some fun exploring this powerful language!</font></br> \n",
    "\n",
    "\n",
    "* <font size=\"3\" face='Calibri'>We will start by discussing why Python is a great tool for data visualization and analysis, and then dive into hands-on examples of how to load and visualize data. </font></br> \n",
    "\n",
    "\n",
    "* <font size=\"3\" face='Calibri'>Our specific objective for this class is to investigate whether there are quantitative differences in the dimensions of petal and sepal across different types of irises. To achieve this, we will create various plots to visualize both numeric and categorical variables.</font></br> \n",
    "\n",
    "\n",
    "* <font size=\"3\" face='Calibri'>By the end of the demonstration, you will have gained a basic understanding of how to use Python for simple data visualization and analysis. You will also have a notebook showcasing your skills in <mark>editing</mark> different charts with Python.</font></br> "
   ]
  },
  {
   "cell_type": "markdown",
   "id": "04f520ea",
   "metadata": {},
   "source": [
    "<a id='in-5'></a>\n",
    "### <font color=green>Test the Water with JupyterLab</font>\n",
    "* Go to this webpage and select JupyterLab: https://jupyter.org/try\n",
    "* Download Python Demo V2.ipynb from Canvas and drag it into the Table of Contents pane on the left\n",
    "* You can click the folder icon to minimize the window or reopen it whenever\n",
    "* Right-click on the notebook and rename it as **Experiment 1**\n",
    "\n",
    "<img src='https://github.com/JQi-14/GRADDataAnalysis/blob/main/jupyterlab.png?raw=true' width=600 align='left'>\n",
    "\n",
    "<img src='https://github.com/JQi-14/GRADDataAnalysis/blob/main/renameNotebook.png?raw=true' width=300 align='left'>"
   ]
  },
  {
   "cell_type": "markdown",
   "id": "ca610fc5",
   "metadata": {},
   "source": [
    "[Go to Top](#top)\n",
    "***\n",
    "<a id='Pre'></a>\n",
    "<font face=\"Script MT Bold\" size=\"6\" color=goldenrod> **Part 1. Getting Started with JupyterLab** </font></br>\n",
    "\n",
    "**Here, we'll get started with the basics of Python in JupyterLab step by step**\n",
    "\n",
    "### <font color=green>i. Cell Modes in Jupyter Lab</font>\n",
    "\n",
    "<img src='https://github.com/JQi-14/GRADDataAnalysis/blob/main/Modes%20of%20Cells.png?raw=true' width=300 align='left'/>"
   ]
  },
  {
   "cell_type": "markdown",
   "id": "443689d2",
   "metadata": {},
   "source": [
    "<a id='Pre-2'></a>\n",
    "\n",
    "### <font color=green>ii. Frequently Used Keyboard Shortcuts</font>\n",
    "**If you're a Mac user**, keep in mind that the shortcuts may include the Mac command key. Attempt the shortcuts with or without the command key first, and if they don't work, press the H key in command mode to find the correct shortcuts.\n",
    "<br>\n",
    "<div class=\"alert alert-block alert-info\">\n",
    "<b>Ctrl + Enter</b> (in Edit Mode): Run the codes in the selected cell<br/>\n",
    "<b>Alt + Enter</b> (in Edit Mode): Run the codes in the selected cell and add a block below it<br/>\n",
    "<b>B</b> (in Command Mode): Add a block below<br/>\n",
    "<b>A</b> (in Command Mode): Add a block above<br/>\n",
    "<b>DD</b> (in Command Mode): Delete the cell<br/>\n",
    "<b>H</b> (in Command Mode): Open the keyboard shortcuts menu\n",
    "</div>"
   ]
  },
  {
   "cell_type": "markdown",
   "id": "eec0b32e",
   "metadata": {},
   "source": [
    "<a id='Pre-3'></a>\n",
    "### <font color=green>iii. Now You Try It"
   ]
  },
  {
   "cell_type": "markdown",
   "id": "39248ada",
   "metadata": {},
   "source": [
    "1. Add a new cell below and switch between the two modes"
   ]
  },
  {
   "cell_type": "markdown",
   "id": "26bc9143",
   "metadata": {},
   "source": [
    "2. Delete the cell above"
   ]
  },
  {
   "cell_type": "markdown",
   "id": "7479ff67",
   "metadata": {},
   "source": [
    "3. Add a new cell above"
   ]
  },
  {
   "cell_type": "markdown",
   "id": "fba3f46e",
   "metadata": {},
   "source": [
    "4. Add a new cell below and type `1+1`"
   ]
  },
  {
   "cell_type": "markdown",
   "id": "0a62ddaa",
   "metadata": {},
   "source": [
    "5. Run the line of code above without adding a new cell"
   ]
  },
  {
   "cell_type": "markdown",
   "id": "a9fc71e9",
   "metadata": {},
   "source": [
    "6. Add a new cell below, type `print(\"Happy Friday!\")`, run the code while adding a new cell below"
   ]
  },
  {
   "cell_type": "markdown",
   "id": "e7d31f69",
   "metadata": {},
   "source": [
    "<a id='Pre-4'></a>\n",
    "### <font color=green>iv. Troubleshoot Common Errors (*definitely come back here when you see errors*)\n",
    "\n",
    "* Use the right symbols: $\\color{green}{\\text{'}}$ ≠ $\\color{red}{\\text{‘}}$, $\\color{green}{\\text{\"}}$ ≠ $\\color{red}{\\text{“}}$; however, $\\color{green}{\\text{'}}$ and $\\color{green}{\\text{\"}}$ are interchangeable, just make sure you the same one in pairs \n",
    "* Check the case and spelling of your variables (e.g., '$\\color{green}{\\text{dataset}}$' ≠ '$\\color{red}{\\text{Dataset}}$’) \n",
    "* Verify whether the code uses parentheses or brackets (single or double pairs)\n",
    "* If you have closed JupyterLab for some reason, you need to rerun all blocks of codes in **Part 2** to re-import the libraries and reload the dataset (and any other codes where there are additional variables being created)\n",
    "* (For beginners) The functions that 'hard-modify' the dataset, such as `remove()`, should only be run exactly once <ins>for the same task</ins> in your entire experiment\n",
    "* The level of indentation should be created by using the **Tab** key to ensure consistency\n",
    "* Remember to use **#** for notes, otherwise they will be recognized as invalid codes \n",
    "* (For JupyterLab users) <mark><ins>Don’t forget to save and download your notebook after you are done!</ins></mark>"
   ]
  },
  {
   "cell_type": "markdown",
   "id": "b313b4e2",
   "metadata": {},
   "source": [
    "[Go to Top](#top)\n",
    "***\n",
    "<a id='Main'></a>\n",
    "<font face=\"Script MT Bold\" size=\"6\" color=goldenrod>Part 2. Data Collection and Preparation</font></br>\n",
    "\n",
    "**This section will help you load and set up the dataset. It's important to run all the blocks in this section every time you reopen this file before running any codes in <ins>Part 3**"
   ]
  },
  {
   "cell_type": "markdown",
   "id": "5931614c",
   "metadata": {},
   "source": [
    "#### Color Schema for the Demo Codes:\n",
    "* $\\color{goldenrod}{\\text{Text in amber marks the Python snippets you should modify for each specific project}}$\n",
    "* $\\color{orangered}{\\text{Text in auburn notes the variable names in the codes that can be changed (not recommended for beginners)}}$\n",
    "* <ins>Text with underscores are actions you should follow\n",
    "   \n",
    "[Go to Top](#top)\n",
    "<a id='Main-0'></a>\n",
    "### <font color=green>0. Load the Data to JupyterLab\n",
    "\n",
    "**To-do**\n",
    "* <ins>Download the data *artificial student funding dataset.xlsx* from Canvas</ins>\n",
    "* <ins>Drag and drop the Excel file onto the table of contents panel on the left side of the JupyterLab interface</ins>\n",
    "\n",
    "    \n",
    "<div class=\"alert alert-block alert-warning\">\n",
    "Note that I created an artificial dataset combining three files to demostrate all basic data visualization techniques (including <i>looking for grant funded students Fall 2020 clean. xlsx</i>, <i>enrollment Fall 2020 clean.xlsx</i>, and <i>Time to degree - with fellowship applications.xlsx</i>). Thus, do not read too much into the patterns shown in the generated plots if they involve variables from more than one data source.\n",
    "</div>\n",
    "<img src='https://github.com/JQi-14/GRADDataAnalysis/blob/main/dataSource%20-%20interpretability.png?raw=true' width=500 align='left'>  \n",
    "    "
   ]
  },
  {
   "cell_type": "markdown",
   "id": "f7af6bcd",
   "metadata": {},
   "source": [
    "[Go to Top](#top)\n",
    "<a id='Main-1'></a>\n",
    "### <font color=green>1. Import Necessray Libraries\n",
    "**To-do**\n",
    "* <ins>Run this block by pressing **Ctrl** + **Enter**. <br/>Give it a little time before it's completed. If it appears to be stuck after five minutes, you can close the browser and then try again.</ins>\n",
    "\n",
    "<div class=\"alert alert-block alert-info\">\n",
    "We use a ‘#’ prefix to add notes so that they will not be recognized as codes<br/>\n",
    "We need to import libraries that contain pre-defined functions that help us achieve certain goals (data visualization-related tasks in this case)<br/> We give some of them nicknames so that we don't have to type their full name every time<br/>\n",
    "    \n",
    "<b>pandas</b> allows you to work with data in tabular form<br/>\n",
    "<b>numpy</b> provides support for large, multi-dimensional dataset<br/>\n",
    "<b>matplotlib</b> provides a wide range of 2D plotting functions<br/>\n",
    "<b>scipy</b> provides a wide range of mathematical algorithms and functions<br/>\n",
    "<b>operator</b> provides functions that correspond to built-in Python operators<br/>    \n",
    "</div>"
   ]
  },
  {
   "cell_type": "code",
   "execution_count": null,
   "id": "18509115-318a-4d0e-b7ba-8e109e5daafc",
   "metadata": {},
   "outputs": [],
   "source": [
    "# import libraries\n",
    "import pandas as pd                 #import the entire library and give it a nickname\n",
    "import numpy as np                  #import the entire library and give it a nickname\n",
    "import matplotlib.pyplot as plt     #import the pyplot module in the matplotlib library and give it a nickname\n",
    "from pandas import read_excel       #import a specific function\n",
    "from scipy import stats             #import a specific function set\n",
    "from numpy import mean              #import a specific function \n",
    "from operator import itemgetter     #import a specific function \n",
    "from scipy.stats import levene      #import a specific function \n",
    "from scipy.stats import ttest_ind   #import a specific function \n",
    "import scipy.stats as stats         #import a specific function \n",
    "from scipy.stats import f_oneway    #import a specific function \n",
    "\n",
    "# Check the versions of libraries - using different versions may result in compatibility issues or different results\n",
    "# the versions of libraries can ONLY be guaranteed to be exactly the same for users of JupyterLab.\n",
    "import sys # Python version\n",
    "print('Python: {}'.format(sys.version))\n",
    "import scipy\n",
    "print('scipy: {}'.format(scipy.__version__))\n",
    "import numpy\n",
    "print('numpy: {}'.format(numpy.__version__))\n",
    "import matplotlib\n",
    "print('matplotlib: {}'.format(matplotlib.__version__))\n",
    "import pandas\n",
    "print('pandas: {}'.format(pandas.__version__))"
   ]
  },
  {
   "cell_type": "markdown",
   "id": "ca19c4ad",
   "metadata": {},
   "source": [
    "\n"
   ]
  },
  {
   "cell_type": "markdown",
   "id": "fe79c275",
   "metadata": {},
   "source": [
    "[Go to Top](#top)\n",
    "<a id='Main-2'></a>\n",
    "### <font color=green>2. Load the Dataset and Define the Initial Variables\n",
    "    \n",
    "***\n",
    "**Load the dataset**<sup>(1)</sup> <br/>\n",
    "$\\color{orangered}{\\text{dataset}}$ = read_csv ($\\color{goldenrod}{\\text{'artificial student funding dataset.csv'}}$)<br/>\n",
    "\n",
    "**show the dataset**<sup>(2)</sup> <br/>\n",
    "$\\color{orangered}{\\text{dataset}}$<br/>\n",
    "***\n",
    "<div class=\"alert alert-block alert-info\">\n",
    "<sup>(1)</sup> Load the dataset in the Funding Awards workbook of the Excel file as <code>dataset</code>. <br/>Once the variables are defined (i.e., created), you have to refer to them exactly that. Otherwise, python will not recognize them. A comparable example is that when you mention the $\\color{deeppink}{\\text{E}}$arth, it means the planet; but when you say $\\color{deeppink}{\\text{e}}$arth, you may be talking about soil. <br/>\n",
    "<sup>(2)</sup> Check if the dataset is loaded correctly <br/>\n",
    "</div>    \n",
    "    \n",
    "**To-do**\n",
    "* <ins>Run the block below and add the notes to help you understand the codes</ins>"
   ]
  },
  {
   "cell_type": "code",
   "execution_count": null,
   "id": "9207df1d-a3d8-482c-8f02-4e3c13a881b8",
   "metadata": {},
   "outputs": [],
   "source": [
    "dataset = pd.read_csv('artificial student funding dataset.csv')\n",
    "\n",
    "dataset"
   ]
  },
  {
   "cell_type": "markdown",
   "id": "0b49729a",
   "metadata": {},
   "source": [
    "[Go to Top](#top)\n",
    "***\n",
    "### <font color=green>3. First Glance\n",
    "First we need have a guick check on the dataset to see what information it has, in what data format they are presented, and if there are missing values.\n",
    "***    \n",
    "**get the general info of the dataset**<BR/>\n",
    "$\\color{orangered}{\\text{dataset}}$.info()    \n",
    "***\n",
    "    \n",
    " <img src='https://github.com/JQi-14/GRADDataAnalysis/blob/main/datainfo.png?raw=true' width=400 align='left'>"
   ]
  },
  {
   "cell_type": "markdown",
   "id": "65a23263",
   "metadata": {},
   "source": [
    "This method provides five pieces of information about a dataset loaded into a pandas DataFrame:\n",
    "1. The index number assigned to each column\n",
    "2. The name of each column\n",
    "3. The number of non-missing values in each column\n",
    "4. Whether or not any values are null in each column\n",
    "5. The data type of the values in each column. The summary at the bottom shows that there are two columns that are dates/times, five that are continuous numerical values, three that are integers, and 12 that are text data.\n",
    "\n",
    "\n",
    "**To-do**\n",
    "* <ins>Run the block below</ins>"
   ]
  },
  {
   "cell_type": "code",
   "execution_count": null,
   "id": "764911ca-a652-4e23-8962-7a230302e7f2",
   "metadata": {},
   "outputs": [],
   "source": [
    "dataset.info()"
   ]
  },
  {
   "cell_type": "markdown",
   "id": "c6995228",
   "metadata": {},
   "source": [
    "* This dataset has 423 total student records with 22 columns of properties\n",
    "* No columns have missing data           "
   ]
  },
  {
   "cell_type": "markdown",
   "id": "520c4b79",
   "metadata": {},
   "source": [
    "[Go to Top](#top)\n",
    "<a id='Main-4'></a>\n",
    "### <font color=green>4. A Closer Look\n",
    "***\n",
    "**create a sub-dataset for the numerical variables (continuous or integers) except student ID**<br/>\n",
    "$\\color{orangered}{\\text{num_set}}$ = $\\color{orangered}{\\text{dataset}}$.select_dtypes(include=['float64', 'int64']).drop([$\\color{goldenrod}{\\text{'ID'}}$], axis=1)    <br/>\n",
    "    \n",
    "**give them proper names to show in figures - <ins>they have to be in the same sequence as the newlly created sub-dataset</ins>**<br/>\n",
    "$\\color{orangered}{\\text{num_set_names}}$=[$\\color{goldenrod}{\\text{'Time-to-Degree','202080 Award Amount', '202110 Award Amount'}}$, $\\color{goldenrod}{\\text{'eGPS Resident Awrd Amt','eGPS Non-ResdAwrd Amt','Age', 'Hours Attempt'}}$]<br/>\n",
    "    \n",
    "**get the statistical summary of this sub-set**<sup>(1)</sup><br/>\n",
    "$\\color{orangered}{\\text{num_set}}$.describe()\n",
    "\n",
    "***\n",
    "    \n",
    "**create a sub-dataset for the categorical (i.e., text-based) variables**<br/>\n",
    "$\\color{orangered}{\\text{cat_set}}$= $\\color{orangered}{\\text{dataset}}$.select_dtypes(include=['object'])<br/>\n",
    "\n",
    "**give them proper names to show in figure labels - they have to be in proper sequence**<br/>\n",
    "$\\color{orangered}{\\text{cat_set_names}}$=[$\\color{goldenrod}{\\text{'eGPS Award','Grad School Fellowship' ,'Summer GA 19-21','eGPS Nom. Status','Residency','College', }}$\n",
    "               $\\color{goldenrod}{\\text{'Degree', 'Major','Major Description','Gender', 'Race', 'Time Status'}}$]<br/>\n",
    "\n",
    "**check unique values for each categorical variable in the cat_set**<sup>(2)</sup><br/>\n",
    "for $\\color{orangered}{\\text{i}}$ in $\\color{orangered}{\\text{cat_set}}$.columns:<br/>\n",
    "    print('\\n'+'\\033[1m'+'\\033[4m' +$\\color{orangered}{\\text{i}}$+'\\033[0m')<sup>(3)</sup><br/>\n",
    "    print($\\color{orangered}{\\text{cat_set[i]}}$.value_counts())<sup>(4)</sup>  <br/>  \n",
    "***\n",
    "    \n",
    "<div class=\"alert alert-block alert-info\">\n",
    "<sup>(1)</sup>The <code>describe()</code> function shows that all numerical variables are in similar scales, so we may plot them together using the same y-axis<br/>\n",
    "<sup>(2)</sup> We use a for loop to apply the function for each categorical variable   <br/>\n",
    "<sup>(3)</sup> This line is used to print the name of each column so we can easily know whose unique values we are looking at. The name of the column is bold with underline and is printed in a new line.<br/>   \n",
    "<sup>(4)</sup> We use <code>value_counts()</code> to see unique values of a categorical variable. It is similar like the Remove Duplicate tool in Excel<br/>\n",
    "    </div>\n",
    "    \n",
    "**To-do**\n",
    "* <ins>Run these two blocks of codes</ins>\n",
    "\n",
    "<div class=\"alert alert-block alert-warning\">Remember to add notes to help you understand the codes!"
   ]
  },
  {
   "cell_type": "code",
   "execution_count": null,
   "id": "16726974-82c7-4a22-84e3-74c09380868a",
   "metadata": {},
   "outputs": [],
   "source": [
    "# create a sub-dataset for the numerical variables except student ID \n",
    "num_set = dataset.select_dtypes(include=['float64', 'int64']).drop(['ID'], axis=1)\n",
    "# give them proper names to show in figures - they have to be in the same sequence as the newlly created sub-dataset\n",
    "num_set_names=['Time-to-Degree','202080 Award Amount', '202110 Award Amount', 'eGPS Resident Awrd Amt', \n",
    "                     'eGPS Non-ResdAwrd Amt','Age', 'Hours Attempt']\n",
    "\n",
    "num_set.describe()"
   ]
  },
  {
   "cell_type": "code",
   "execution_count": null,
   "id": "2904de7e",
   "metadata": {},
   "outputs": [],
   "source": [
    "# create a sub-dataset for the categorical variables\n",
    "cat_set= dataset.select_dtypes(include=['object'])\n",
    "# give them proper names to show in figure labels - they have to be in proper sequence\n",
    "cat_set_names=['eGPS Award','Grad School Fellowship' ,'Summer GA 19-21','eGPS Nom. Status','Residency','College', \n",
    "               'Degree', 'Major','Major Description','Gender', 'Race', 'Time Status']\n",
    "\n",
    "#check unique values for each categorical variable\n",
    "for i in cat_set.columns:\n",
    "    print('\\n'+'\\033[1m'+'\\033[4m' +i+'\\033[0m') \n",
    "    print(cat_set[i].value_counts())"
   ]
  },
  {
   "cell_type": "markdown",
   "id": "30ce8d67",
   "metadata": {},
   "source": [
    "[Go to Top](#top)<br/>\n",
    "\n",
    "<a id='Main-3'></a>\n",
    "<font face=\"Script MT Bold\" size=\"6\" color=goldenrod>Part 3. Exploring and Visualizing the Data</font></br>\n",
    "\n",
    "**The codes here are stand-alone, meaning you can run any block of codes without following a particular sequence to generate the plots suit your need.</br> But, Part 2 must be fully executed first before running any other blocks of code here, as the codes in Part 2 contain the necessary functions and data preprocessing steps that are used throughout the notebook.** \n",
    "\n",
    "<a id='Main-5'></a>\n",
    "### <font color=green>5. Box Plots for Distribution\n",
    "Things to consider<br/>\n",
    "* The type of the data must be numerical \n",
    "* A point is considered an outlier (marked as the dots outside the boxplot) if it’s very far away from the range between the 25th and 75th percentile\n",
    "* The line inside the box is the median, not the mean!\n",
    "* You can plot each variable automatically with a 'for-loop', instead of creating different codes for each plot\n",
    "* If you want to plot multiple variables (univariate box plot)  in the same plot, their scales must be comparable\n",
    "\n",
    "<img src='https://miro.medium.com/max/628/1*FPnhYs6cs3ipUKIZhl9caA.png' align='left'>"
   ]
  },
  {
   "cell_type": "markdown",
   "id": "1ecb0cec",
   "metadata": {},
   "source": [
    "\n",
    "Here, we will try to create a box plot for the <code>Calculated 202080 Award Amount</code>.<br/>\n",
    "***\n",
    "**create a plotting space of 2 by 3**<br/>\n",
    "$\\color{orangered}{\\text{fig, ax}}$ = plt.subplots(figsize =($\\color{goldenrod}{\\text{2, 3}}$))<sup>(1)</sup><br/>\n",
    "\n",
    "**give it a title and a proper font size**<br/>\n",
    "$\\color{orangered}{\\text{ax}}$.set_title('$\\color{goldenrod}{\\text{A Box Plot for 202080 Award Amount}}$', fontsize = $\\color{goldenrod}{\\text{10}}$)<sup>(2)</sup><br/>\n",
    "\n",
    "**draw the plot**<br/>\n",
    "$\\color{orangered}{\\text{ax}}$.boxplot($\\color{orangered}{\\text{dataset}}$['$\\color{goldenrod}{\\text{Calculated 202080 Award Amount}}$'], showfliers=$\\color{goldenrod}{\\text{True}}$, showmeans=$\\color{goldenrod}{\\text{True}}$, showcaps=$\\color{goldenrod}{\\text{True}}$, autorange=$\\color{goldenrod}{\\text{True}}$)<sup>(3)</sup><br/>\n",
    "\n",
    "**save the plot**<br/>\n",
    "#$\\color{orangered}{\\text{fig}}$.savefig('$\\color{goldenrod}{\\text{Box Plot for 202080 Award Amount.png}}$', dpi=$\\color{goldenrod}{\\text{300}}$, transparent=$\\color{goldenrod}{\\text{True}}$, $\\color{goldenrod}{\\text{bbox_inches='tight'}}$)<sup>(4)</sup><br/>\n",
    "\n",
    "**display the plot**<br/>\n",
    "plt.show()<br/>\n",
    "***\n",
    "\n",
    "<div class=\"alert alert-block alert-info\">\n",
    "<sup>(1)</sup> We set the figure size to 2” by 3” (‘<code>figsize</code>’) <br/>\n",
    "<sup>(2)</sup> We shall give it a title as ‘A Box Plot for 202080 Award Amount’ (<code>set_title()</code>) <br/>\n",
    "<sup>(3)</sup> We specify to use the information in the ‘Calculated 202080 Award Amount’ column of the dataset to make this plot<br/>\n",
    "We also display the mean value as a green triangle (‘<code>showmeans=True</code>’) <br/>\n",
    "<sup>(4)</sup> Remove this ‘<code>#</code>’ if you want to save the plots (<code>savefig()</code>), The plot will be saved as ‘Box Plot for 202080 Award Amount.png’ with a resolution of 300 dpi and transparent background. All contents (labels, legends, and markups) are saved within the bounding box of the figure by passing the parameter <code>bbox_inches='tight'</code>.You can find your saved figures in the panel on the left. <br/>"
   ]
  },
  {
   "cell_type": "markdown",
   "id": "ceaf8ce5",
   "metadata": {},
   "source": [
    "<img src='https://github.com/JQi-14/GRADDataAnalysis/blob/main/box%20basic.png?raw=$\\color{goldenrod}{\\text{true}}$' width=200 align='left'>"
   ]
  },
  {
   "cell_type": "markdown",
   "id": "64fb59f7",
   "metadata": {},
   "source": [
    "**To-do**\n",
    "* <ins>Increase the size of the figure</ins>\n",
    "* <ins>Rename the title of the plot</ins>\n",
    "* <ins>Run the codes</ins>"
   ]
  },
  {
   "cell_type": "code",
   "execution_count": null,
   "id": "dc720f58",
   "metadata": {},
   "outputs": [],
   "source": [
    "fig, ax = plt.subplots(figsize =(2, 3))\n",
    "ax.set_title('A Box Plot for 202080 Award Amount', fontsize = 10)\n",
    "ax.boxplot(dataset['Calculated 202080 Award Amount'], showfliers=True, showmeans=True, showcaps=True, \n",
    "           autorange=True)\n",
    "#fig.savefig('Box Plot for 202080 Award Amount.png', dpi=300, transparent=True, bbox_inches='tight')\n",
    "plt.show()"
   ]
  },
  {
   "cell_type": "markdown",
   "id": "d74c4c30",
   "metadata": {},
   "source": [
    "[Go to Top](#top)\n",
    "<a id='Main-6'></a>\n",
    "### <font color=green>6. Violin Plots\n",
    "Violin plots can reflect sample size and distribution which box plots fail to achieve<br/>\n",
    "However, it only shows values within the outer limits without outliers\n",
    "\n",
    "\n",
    "<img src='https://images.ctfassets.net/fi0zmnwlsnja/sdfgtcRp16wTNOcRceGQm/5bfcb73d2261d49ff20dd7857e0152b1/Screen_Shot_2019-03-01_at_11.36.10_AM.png' width=400 align='left'>"
   ]
  },
  {
   "cell_type": "markdown",
   "id": "dcff4877",
   "metadata": {},
   "source": [
    "#### <font color=green>Grouped Violin Plot\n",
    "***\n",
    "**create another subset without the time to degree because the range of the data is so different from those of the awards**<sup>(1)</sup><br/>\n",
    "$\\color{orangered}{\\text{awards_set}}$ = $\\color{orangered}{\\text{num_set}}$ [[$\\color{goldenrod}{\\text{'Calculated 202080 Award Amount', 'Calculated 202110 Award Amount',}}$\n",
    "    $\\color{goldenrod}{\\text{'eGPS Snapshot Resident Awrd Amt', 'eGPS Snapshot Non-Resd Awrd Amt'}}$]]<br/>\n",
    "\n",
    "**Give them proper names**<sup>(2)</sup><br/>\n",
    "$\\color{orangered}{\\text{awards_set_names}}$=[$\\color{goldenrod}{\\text{'202080 Award Amount', '202110 Award Amount', 'eGPS Resident Awrd Amt','eGPS Non-ResdAwrd Amt'}}$] \n",
    "\n",
    "**create the ploting space of 10 by 3**<br/>\n",
    "$\\color{orangered}{\\text{fig, ax}}$ = plt.subplots(figsize=($\\color{goldenrod}{\\text{10,3}}$))<br/>\n",
    "    \n",
    "**make a vertical violin plot with median**<br/>\n",
    "$\\color{orangered}{\\text{ax}}$.violinplot($\\color{orangered}{\\text{awards_set}}$, showmedians=$\\color{goldenrod}{\\text{True}}$, vert=$\\color{goldenrod}{\\text{True}}$, showmeans=$\\color{goldenrod}{\\text{False}}$)<sup>(3)</sup><br/>\n",
    "    \n",
    "**give the plot a title**<br/>\n",
    "$\\color{orangered}{\\text{ax}}$.set_title('$\\color{goldenrod}{\\text{Violin Plot}}$', fontsize=$\\color{goldenrod}{\\text{12}}$)<br/>\n",
    "    \n",
    "**give the plot a proper label for the y-axis**<br/>\n",
    "$\\color{orangered}{\\text{ax}}$.set_ylabel('$\\color{goldenrod}{\\text{USD}}$', fontsize=$\\color{goldenrod}{\\text{8}}$)<br/>\n",
    "    \n",
    "**since this is a group plot, we need to show proper labels on the x-axis (manually) with the following two steps**<sup>(4)</sup> <br/>\n",
    "$\\color{orangered}{\\text{ax}}$.set_xticks([$\\color{goldenrod}{\\text{1,2,3,4}}$])<br/>\n",
    "$\\color{orangered}{\\text{ax}}$.set_xticklabels($\\color{orangered}{\\text{awards_set_names}}$,fontsize=$\\color{goldenrod}{\\text{9}}$)<br/>\n",
    "    \n",
    "**show the plot**<br/>\n",
    "plt.show()<br/>    \n",
    "***    \n",
    "\n",
    "<div class=\"alert alert-block alert-info\">\n",
    "<sup>(1)</sup> We create a new sub-set for the awards, and we use double pairs of brackets here to access multiple columns<br/>\n",
    "We use double pairs of brackets here to access multiple columns<br/>\n",
    "<sup>(2)</sup><ins> It is importance to keep names in the same order as of the columns in the new sub-set we just defined </ins><br/>\n",
    "<sup>(3)</sup> We display the plot vertically by using the argument ‘<code>vert=True</code>’ <br/>\n",
    "<sup>(4)</sup> Because we have four variables plotted, we want to give them labels on the x axis by first setting up the ticks (<code>set_xticks()</code>) then give them actual names (<code>set_xticklabels()</code>)<br/>\n",
    "\n",
    "</div>\n",
    "\n",
    "\n",
    "<img src='https://github.com/JQi-14/GRADDataAnalysis/blob/main/violin%20grouped.png?raw=true' width=300 align='left'>"
   ]
  },
  {
   "cell_type": "markdown",
   "id": "d6d3570e",
   "metadata": {},
   "source": [
    "**To-do**\n",
    "* <ins>Make a horizontal violin plot</ins>"
   ]
  },
  {
   "cell_type": "code",
   "execution_count": null,
   "id": "ef120bf1",
   "metadata": {},
   "outputs": [],
   "source": [
    "awards_set = num_set[['Calculated 202080 Award Amount', 'Calculated 202110 Award Amount',\n",
    " 'eGPS Snapshot Resident Awrd Amt', 'eGPS Snapshot Non-Resd Awrd Amt']]\n",
    "awards_set_names=['202080 Award Amount', '202110 Award Amount', 'eGPS Resident Awrd Amt','eGPS Non-ResdAwrd Amt']\n",
    "\n",
    "\n",
    "fig, ax = plt.subplots(figsize=(10,3))\n",
    "ax.violinplot(awards_set, showmedians=True, vert=True, showmeans=False)\n",
    "ax.set_title('Violin Plot', fontsize=12)\n",
    "ax.set_ylabel('USD', fontsize=10)\n",
    "ax.set_xticks([1,2,3,4])\n",
    "ax.set_xticklabels(awards_set_names,fontsize=9)\n",
    "#fig.savefig('Grouped Violin Plot.png', dpi=300, transparent=True, bbox_inches='tight')\n",
    "plt.show()"
   ]
  },
  {
   "cell_type": "markdown",
   "id": "d2a631e2",
   "metadata": {},
   "source": [
    "[Go to Top](#top)\n",
    "<a id='Main-7'></a>\n",
    "### <font color=green>7. Histograms for Distribution Approximation\n",
    "#### <font color=green>Batch-Produced Individual Histogram\n",
    "***\n",
    "**We use a for-loop to iterate the plotting process for each variable in the num_set**<br/>\n",
    "$\\color{orangered}{\\text{i}}$=0<br/>\n",
    "for column in $\\color{orangered}{\\text{num_set}}$:<sup>(1)</sup><br/>\n",
    "      $\\color{orangered}{\\text{fig, ax}}$ = plt.subplots(figsize =($\\color{goldenrod}{\\text{2, 2}}$))<br/>\n",
    "      $\\color{orangered}{\\text{ax}}$.hist($\\color{orangered}{\\text{num_set}}$[column], bins=$\\color{goldenrod}{\\text{20}}$)<sup>(2)</sup><br/>\n",
    "      $\\color{orangered}{\\text{ax}}$.set_title($\\color{orangered}{\\text{num_set_names}}$[$\\color{orangered}{\\text{i}}$],fontsize = $\\color{goldenrod}{\\text{10}}$)<sup>(3)</sup><br/>\n",
    "      #$\\color{orangered}{\\text{fig}}$.savefig($\\color{goldenrod}{\\text{column +' boxplot.png'}}$, dpi=$\\color{goldenrod}{\\text{300}}$, transparent=$\\color{goldenrod}{\\text{True}}$, $\\color{goldenrod}{\\text{bbox_inches='tight'}}$)<sup>(4)</sup><br/>\n",
    "      plt.show()<br/>\n",
    "      $\\color{orangered}{\\text{i}}$+=1<br/>\n",
    "***    \n",
    "\n",
    "<div class=\"alert alert-block alert-info\">\n",
    "<sup>(1)</sup> We add indentation for the codes after this line for the for-loop structure<br/>\n",
    "<sup>(2)</sup> We divide the values into 20 bins (the bars plotted) for each variable to display in the histograms <br/>\n",
    "<sup>(3)</sup> We give each plot a (dynamic) title with a font size of 10 (‘fontsize=10’), which is the name of the variable <br/>\n",
    "<sup>(4)</sup> Remove this ‘<code>#</code>’ if you want to save the plots (<code>savefig()</code>), The plots are saved as '*the name of the variable* +Box Plot.png’<br/> \n",
    "</div>\n",
    "\n",
    "<img src='https://github.com/JQi-14/GRADDataAnalysis/blob/main/histogram.png?raw=true' width=200 align='left'>"
   ]
  },
  {
   "cell_type": "markdown",
   "id": "c129325a",
   "metadata": {},
   "source": [
    "**To-do**\n",
    "* <ins>Use fewer bins for all variables</ins>\n",
    "* <ins> Observe the distributions of each numerical variable"
   ]
  },
  {
   "cell_type": "code",
   "execution_count": null,
   "id": "0e4e9fa3",
   "metadata": {},
   "outputs": [],
   "source": [
    "i=0\n",
    "for column in num_set:\n",
    "    #notice the indentations below\n",
    "    fig, ax = plt.subplots(figsize =(2, 2))\n",
    "    ax.hist(num_set[column], bins=20)\n",
    "    ax.set_title(num_set_names[i],fontsize = 10)\n",
    "    #fig.savefig(column +' boxplot.png', dpi=300, transparent=True, bbox_inches='tight')\n",
    "    plt.show()\n",
    "    i+=1"
   ]
  },
  {
   "cell_type": "markdown",
   "id": "5d114ca6",
   "metadata": {},
   "source": [
    "[Go to Top](#top)\n",
    "<a id='Main-8'></a>\n",
    "### <font color=green>8. Pie Chart for Categorical Variables\n",
    "***\n",
    "**select the variable we want to make the plot for**<br/>\n",
    "**the setup in the two lines below make sure the lables and their values are linked correctly**<br/>\n",
    "$\\color{orangered}{\\text{labels}}$ = $\\color{orangered}{\\text{cat_set}}$['$\\color{goldenrod}{\\text{Banner Student Degree}}$'].value_counts().index<sup>(1)</sup><br/>\n",
    "$\\color{orangered}{\\text{sizes}}$ = $\\color{orangered}{\\text{cat_set}}$['$\\color{goldenrod}{\\text{Banner Student Degree}}$'].value_counts()<br/>\n",
    "\n",
    "    \n",
    "**create a ploting space and set up its size**<br/>\n",
    "$\\color{orangered}{\\text{fig, ax}}$ = plt.subplots(figsize=($\\color{goldenrod}{\\text{4, 4}}$))<br/>\n",
    "\n",
    "\n",
    "**choose a slice to be the 'explode', this takes exactly 9 values for all labels in 'Banner Student Degree' variable**<BR/>\n",
    "$\\color{orangered}{\\text{explode}}$ = ($\\color{goldenrod}{\\text{0, 0.2, 0, 0, 0, 0, 0, 0, 0}}$) <sup>(2)</sup> <br/>\n",
    "    \n",
    "**create a customized `autopct` function to hide labeling for small categories (less than 3%)**<sup>(3)</sup><br/>\n",
    "def $\\color{orangered}{\\text{custom_autopct}}$(pct):<br/>\n",
    "    return ('%1.$\\color{goldenrod}{\\text{1}}$f%%' % pct) if pct > $\\color{goldenrod}{\\text{3}}$ else ''<br/>       \n",
    "\n",
    "**create the pie chart**<br/>\n",
    "$\\color{orangered}{\\text{ax}}$.pie($\\color{orangered}{\\text{sizes}}$, explode=$\\color{orangered}{\\text{explode}}$, labels=$\\color{orangered}{\\text{labels}}$, autopct=$\\color{orangered}{\\text{custom_autopct}}$, shadow=$\\color{goldenrod}{\\text{True}}$, startangle=$\\color{goldenrod}{\\text{90}}$)<sup>(3)</sup><br/>\n",
    "\n",
    "**make sure it is a perfect circle**<br/>\n",
    "$\\color{orangered}{\\text{ax}}$.axis('$\\color{goldenrod}{\\text{equal}}$')<sup>(4)</sup> <br/>\n",
    "    \n",
    "**set proper title in good font size**<br/>\n",
    "$\\color{orangered}{\\text{ax}}$.set_title('$\\color{goldenrod}{\\text{A Pie Chart Highlighting MED}}$', fontsize=$\\color{goldenrod}{\\text{14}}$)<br/>\n",
    "\n",
    "    \n",
    "**get legends and pair them with the sample sizes**<br/>\n",
    "$\\color{orangered}{\\text{labels_num}}$ = [f'{$\\color{orangered}{\\text{l}}$} ({$\\color{orangered}{\\text{v}}$})' for $\\color{orangered}{\\text{l, v}}$ in zip($\\color{orangered}{\\text{labels, sizes}}$)]<br/>\n",
    "\n",
    "**set the modified legends at a proper place**<sup>(5)</sup><br/>\n",
    "plt.legend($\\color{orangered}{\\text{labels_num}}$, title='$\\color{goldenrod}{\\text{Degree}}$', loc=\"$\\color{goldenrod}{\\text{upper right}}$\", bbox_to_anchor=($\\color{goldenrod}{\\text{1.4,0.9}}$))<br/> \n",
    "    \n",
    "#fig.savefig($\\color{goldenrod}{\\text{'Pie Chart.png}}$', dpi=$\\color{goldenrod}{\\text{300}}$, transparent=$\\color{goldenrod}{\\text{True}}$, $\\color{goldenrod}{\\text{bbox_inches='tight'}}$)<br/>    \n",
    "plt.show()<br/>    \n",
    "***    \n",
    "    \n",
    "<div class=\"alert alert-block alert-info\">\n",
    "(1) The slices of the pie chart are ordered and plotted counter-clockwise.<br/> You can check the order of the variables by running <code>cat_set['Banner Student Degree'].value_counts().index</code> in a different block<br/>\n",
    "(2) ‘<code>explode</code>’ sets up the slice that stick out a little<br/>\n",
    "Because we have nine unique values in column 'Banner Student Degree', we have nine values here, with ‘0.2’ indicate the level of ‘explore’ for the \" 'MED’ slice <br/>\n",
    "(3) ‘<code>autopct</code>’ modifies the number of digits after the decimal points to be displayed on the pie chart<br/>\n",
    "The customized autopct function allows you to set a threshold percentage of the total sample, below which the corresponding label will be hidden.<br/>\n",
    "(4) ‘<code>equal</code>’ aspect ratio ensures that pie is drawn as a circle.<br/>\n",
    "(5) We can place the legend at a different place through legend (<code>loc</code>), the other options are ‘<code>upper left</code>’, ‘<code>upper center</code>’, ‘<code>upper right</code>’, ‘<code>center left</code>’,  ‘<code>center</code>’, ‘<code>center right</code>’, ‘<code>lower left</code>’, ‘<code>lower center</code>’, and ‘<code>lower right</code>’<br/> You will someitmes also use <code>bbox_to_anchor</code> parameter if you want the legend box to be placed outside the chart itself, meaning not overlaping with it.\n",
    "</div>\n",
    "\n",
    "<img src='https://github.com/JQi-14/GRADDataAnalysis/blob/main/pie.png?raw=true' width=300 align='left'>"
   ]
  },
  {
   "cell_type": "markdown",
   "id": "065208ea",
   "metadata": {},
   "source": [
    "**To-do**\n",
    "* <ins>Test different ‘explode’ parameters</ins>\n",
    "* <ins>Place the legend on the middle right and adjust the values in `bbox_to_anchor` slightly so that it does not overlap with the figure</ins>"
   ]
  },
  {
   "cell_type": "code",
   "execution_count": null,
   "id": "a9c63bbd",
   "metadata": {},
   "outputs": [],
   "source": [
    "labels = cat_set['Banner Student Degree'].value_counts().index\n",
    "sizes = cat_set['Banner Student Degree'].value_counts()\n",
    "\n",
    "\n",
    "fig, ax = plt.subplots(figsize=(4, 4))\n",
    "\n",
    "def custom_autopct(pct):\n",
    "    return ('%1.1f%%' % pct) if pct > 3 else ''\n",
    "\n",
    "explode = (0, 0.2, 0, 0, 0, 0, 0, 0, 0)   # takes exactly 9 values for all labels in 'Banner Student Degree' variable\n",
    "ax.pie(sizes, explode=explode,  autopct=custom_autopct, shadow=True, startangle=90 )\n",
    "ax.axis('equal')  \n",
    "ax.set_title('A Pie Chart Highlighting MED', fontsize=14)\n",
    "\n",
    "labels_num = [f'{l} ({v})' for l, v in zip(labels, sizes)]\n",
    "plt.legend(labels_num, title='Degree', loc=\"upper right\", bbox_to_anchor=(1.4,0.9)) \n",
    "\n",
    "#fig.savefig('Pie Chart.png', dpi=300, transparent=True, bbox_inches='tight')\n",
    "plt.show()"
   ]
  },
  {
   "cell_type": "markdown",
   "id": "5e244b0a",
   "metadata": {},
   "source": [
    "[Go to Top](#top)\n",
    "<a id='Main-8-d'></a>\n",
    "### <font color=green> 9. Double-Layer ~Cake~ Donut Chart  (Fancy Python Chart Showoff)\n",
    "(Codes revised by ChatGPT)\n",
    "    \n",
    "    \n",
    "***    \n",
    "**set the size of the chart**<br/>\n",
    "plt.figure(figsize=($\\color{goldenrod}{\\text{7, 7}}$))<br/>\n",
    "\n",
    "**Set colors for the outer layer from a color palette pre-set**<br/>\n",
    "$\\color{orangered}{\\text{labels}}$ = cat_set[$\\color{goldenrod}{\\text{'Banner Student College}}$'].value_counts().index<br/>\n",
    "cmap = plt.get_cmap('$\\color{goldenrod}{\\text{Set2}}$')<br/>\n",
    "$\\color{orangered}{\\text{colors}}$ = cmap(np.linspace(0, 1, len(labels)))<br/>\n",
    "\n",
    "\n",
    "**Customized autopct function to hide labeling for small categories (we set it to 8% this time)**<br/>\n",
    "def $\\color{orangered}{\\text{custom_autopct}}$(pct):<br/>\n",
    "    return ('%1.$\\color{goldenrod}{\\text{1}}$f%%' % pct) if pct > $\\color{goldenrod}{\\text{8}}$ else ''<br/>\n",
    "\n",
    "**draw the Outer layer**<br/>\n",
    "$\\color{orangered}{\\text{sizes_outer}}$ = $\\color{orangered}{\\text{cat_set}}$['$\\color{goldenrod}{\\text{Banner Student College}}$'].value_counts()<br/>\n",
    "plt.pie($\\color{orangered}{\\text{sizes_outer}}$, startangle=$\\color{goldenrod}{\\text{90}}$, colors=$\\color{orangered}{\\text{colors}}$, autopct=$\\color{orangered}{\\text{custom_autopct}}$, radius=$\\color{goldenrod}{\\text{1}}$, pctdistance=$\\color{goldenrod}{\\text{0.85}}$,\n",
    "        wedgeprops=dict(width=$\\color{goldenrod}{\\text{0.6}}$, edgecolor='$\\color{goldenrod}{\\text{w}}$'))<br/>\n",
    "\n",
    "    \n",
    "**draw the Inner layer that is linked to the outer layer**<br/>\n",
    "$\\color{orangered}{\\text{inner_colors}}$ = [$\\color{goldenrod}{\\text{'lightblue', 'pink'}}$]<br/>\n",
    "$\\color{orangered}{\\text{sizes_inner}}$ = []<br/>\n",
    "**create temporal subsets to link with the outer layer**<br/>\n",
    "for $\\color{orangered}{\\text{label}}$ in $\\color{orangered}{\\text{labels}}$:<br/>\n",
    "    $\\color{orangered}{\\text{college_data}}$ = $\\color{orangered}{\\text{cat_set[cat_set}}$['$\\color{goldenrod}{\\text{Banner Student College}}$'] == $\\color{orangered}{\\text{label}}$]<br/>\n",
    "    $\\color{orangered}{\\text{in_state}}$ = sum($\\color{orangered}{\\text{college_data}}$ ['$\\color{goldenrod}{\\text{Banner 202080 Residency}}$'] == '$\\color{orangered}{\\text{R}}$')<br/>\n",
    "    $\\color{orangered}{\\text{out_of_state}}$ = sum($\\color{orangered}{\\text{college_data}}$ ['$\\color{goldenrod}{\\text{Banner 202080 Residency}}$'] == '$\\color{orangered}{\\text{N}}$')<br/>\n",
    "    $\\color{orangered}{\\text{sizes_inner}}$ .extend([$\\color{orangered}{\\text{in_state, out_of_state}}$])<br/>\n",
    "plt.pie($\\color{orangered}{\\text{sizes_inner}}$ , startangle=$\\color{goldenrod}{\\text{90}}$, autopct=$\\color{orangered}{\\text{custom_autopct}}$ , colors=$\\color{orangered}{\\text{inner_colors}}$ * len($\\color{orangered}{\\text{labels}}$), radius=$\\color{goldenrod}{\\text{0.7}}$, pctdistance=$\\color{goldenrod}{\\text{0.8}}$,\n",
    "        wedgeprops=dict(width=$\\color{goldenrod}{\\text{0.5}}$, edgecolor='$\\color{goldenrod}{\\text{w}}$'))<br/>\n",
    "\n",
    "**Add a white circle in the center**<br/>\n",
    "$\\color{orangered}{\\text{centre_circle}}$ = plt.Circle((0, 0), $\\color{goldenrod}{\\text{0.4}}$, color='$\\color{goldenrod}{\\text{white}}$', linewidth=$\\color{goldenrod}{\\text{0}}$)<br/>\n",
    "$\\color{orangered}{\\text{fig}}$ = plt.gcf()<br/>\n",
    "$\\color{orangered}{\\text{fig}}$.gca().add_artist($\\color{orangered}{\\text{centre_circle}}$)<br/>\n",
    "\n",
    "**Legends for the outer layer with the sample sizes**<br/>\n",
    "$\\color{orangered}{\\text{labels_num}}$ = [f'{$\\color{orangered}{\\text{l}}$} ({$\\color{orangered}{\\text{v}}$})' for $\\color{orangered}{\\text{l, v}}$ in zip($\\color{orangered}{\\text{labels, sizes_outer}}$)]<br/>\n",
    "\n",
    "**Legends for the inner layer**<br/>\n",
    "$\\color{orangered}{\\text{inner_legend_labels}}$ = $\\color{orangered}{\\text{cat_set}}$['$\\color{goldenrod}{\\text{Banner 202080 Residency}}$'].value_counts().index<br/>\n",
    "$\\color{orangered}{\\text{replacements}}$ = {$\\color{goldenrod}{\\text{'R': 'In-State', 'N': 'Out-of-State'}}$} **Create a dictionary with the replacements for the inner labels**<br/>\n",
    "$\\color{orangered}{\\text{inner_legend_labels}}$ = $\\color{orangered}{\\text{inner_legend_labels}}$.map($\\color{orangered}{\\text{replacements}}$) **Replace the values with the customized strings**<br/>\n",
    "$\\color{orangered}{\\text{sizes_inner_all}}$= $\\color{orangered}{\\text{cat_set}}$['$\\color{goldenrod}{\\text{Banner 202080 Residency}}$'].value_counts()<br/>\n",
    "$\\color{orangered}{\\text{inner_labels_num}}$ = [f'{$\\color{orangered}{\\text{l}}$ } ({$\\color{orangered}{\\text{v}}$})' for $\\color{orangered}{\\text{l, v}}$ in zip($\\color{orangered}{\\text{inner_legend_labels, sizes_inner_all}}$)]<br/>\n",
    "$\\color{orangered}{\\text{inner_legend_handles}}$ = [plt.Rectangle((0, 1), $\\color{goldenrod}{\\text{0.5, 0.1}}$, fc=$\\color{orangered}{\\text{inner_colors[i]}}$, \n",
    "                                      edgecolor='$\\color{goldenrod}{\\text{none'}}$) for $\\color{orangered}{\\text{i}}$ in range(len($\\color{orangered}{\\text{inner_legend_labels}}$))]<br/>\n",
    "\n",
    "**Combine legends for both layers**<br/>\n",
    "$\\color{orangered}{\\text{legend1}}$  = plt.legend($\\color{orangered}{\\text{labels_num}}$, title='$\\color{goldenrod}{\\text{College (#students)}}$', loc=\"$\\color{goldenrod}{\\text{upper right}}$\", bbox_to_anchor=($\\color{goldenrod}{\\text{1.5, 0.9}}$),\n",
    "                     frameon=$\\color{goldenrod}{\\text{True}}$ , fancybox=$\\color{goldenrod}{\\text{True}}$ , shadow=$\\color{goldenrod}{\\text{True}}$ , facecolor='$\\color{goldenrod}{\\text{white}}$ ')<br/>\n",
    "$\\color{orangered}{\\text{legend2}}$  = plt.legend($\\color{orangered}{\\text{inner_legend_handles}}$ , $\\color{orangered}{\\text{inner_labels_num}}$ , title='$\\color{goldenrod}{\\text{Residency (total #students)}}$ ', \n",
    "                     loc=\"$\\color{goldenrod}{\\text{right}}$ \", bbox_to_anchor=($\\color{goldenrod}{\\text{1.4, 0.5}}$ ), frameon=$\\color{goldenrod}{\\text{True}}$ , fancybox=$\\color{goldenrod}{\\text{True}}$ , shadow=$\\color{goldenrod}{\\text{True}}$ , facecolor='$\\color{goldenrod}{\\text{white}}$')<br/>\n",
    "plt.gca().add_artist($\\color{orangered}{\\text{legend1}}$)<br/>\n",
    "\n",
    "**Title adjustment**<br/>\n",
    "plt.title('$\\color{goldenrod}{\\text{Donut Chart for Student College and Residency}}$', fontsize=$\\color{goldenrod}{\\text{12}}$, y=1)<br/>\n",
    "**make sure the donut is perfectly round**<br/>\n",
    "plt.axis('$\\color{goldenrod}{\\text{equal}}$')<br/>\n",
    "**display the figure**<br/>\n",
    "plt.show()<br/>  \n",
    "***    \n",
    "\n",
    "<img src='https://github.com/JQi-14/GRADDataAnalysis/blob/main/donut.png?raw=true' align='left'>"
   ]
  },
  {
   "cell_type": "markdown",
   "id": "0d099432",
   "metadata": {},
   "source": [
    "**To-do**\n",
    "* <ins>Just run the codes for fun\n",
    "* <ins>Do you think it is informative or information-overload?"
   ]
  },
  {
   "cell_type": "code",
   "execution_count": null,
   "id": "9ef018a0",
   "metadata": {},
   "outputs": [],
   "source": [
    "# set the size of the chart\n",
    "plt.figure(figsize=(7, 7))\n",
    "\n",
    "# Set Colors for the outer layer\n",
    "labels = cat_set['Banner Student College'].value_counts().index\n",
    "cmap = plt.get_cmap('Set2')\n",
    "colors = cmap(np.linspace(0, 1, len(labels)))\n",
    "\n",
    "\n",
    "# Custom autopct function to hide labeling for small categories (less than 8%)\n",
    "def custom_autopct(pct):\n",
    "    return ('%1.1f%%' % pct) if pct > 8 else ''\n",
    "\n",
    "# draw the Outer layer\n",
    "sizes_outer = cat_set['Banner Student College'].value_counts()\n",
    "plt.pie(sizes_outer, startangle=90, colors=colors, autopct=custom_autopct, radius=1, pctdistance=0.85,\n",
    "        wedgeprops=dict(width=0.6, edgecolor='w'))\n",
    "\n",
    "# draw the Inner layer that is linked to the outer layer\n",
    "inner_colors = ['lightblue', 'pink']\n",
    "sizes_inner = []\n",
    "for label in labels: #create temporal subsets to link with the outer layer\n",
    "    college_data = cat_set[cat_set['Banner Student College'] == label]\n",
    "    in_state = sum(college_data['Banner 202080 Residency'] == 'R')\n",
    "    out_of_state = sum(college_data['Banner 202080 Residency'] == 'N')\n",
    "    sizes_inner.extend([in_state, out_of_state])\n",
    "plt.pie(sizes_inner, startangle=90, autopct=custom_autopct, colors=inner_colors * len(labels), radius=0.7, pctdistance=0.8,\n",
    "        wedgeprops=dict(width=0.5, edgecolor='w'))\n",
    "\n",
    "# Add a white circle in the center\n",
    "centre_circle = plt.Circle((0, 0), 0.4, color='white', linewidth=0)\n",
    "fig = plt.gcf()\n",
    "fig.gca().add_artist(centre_circle)\n",
    "\n",
    "# Legends for the outer layer with the sample sizes\n",
    "labels_num = [f'{l} ({v})' for l, v in zip(labels, sizes_outer)]\n",
    "\n",
    "# Legends for the inner layer\n",
    "inner_legend_labels = cat_set['Banner 202080 Residency'].value_counts().index\n",
    "replacements = {'R': 'In-State', 'N': 'Out-of-State'} # Create a dictionary with the replacements for the inner labels\n",
    "inner_legend_labels = inner_legend_labels.map(replacements) # Replace the values with the customized strings\n",
    "sizes_inner_all= cat_set['Banner 202080 Residency'].value_counts()\n",
    "inner_labels_num = [f'{l} ({v})' for l, v in zip(inner_legend_labels, sizes_inner_all)]\n",
    "inner_legend_handles = [plt.Rectangle((0, 1), 0.5, 0.1, fc=inner_colors[i], \n",
    "                                      edgecolor='none') for i in range(len(inner_legend_labels))]\n",
    "\n",
    "# Combine legends\n",
    "legend1 = plt.legend(labels_num, title='College (#students)', loc=\"upper right\", bbox_to_anchor=(1.5, 0.9),\n",
    "                     frameon=True, fancybox=True, shadow=True, facecolor='white')\n",
    "legend2 = plt.legend(inner_legend_handles, inner_labels_num, title='Residency (total #students)', \n",
    "                     loc=\"right\", bbox_to_anchor=(1.4, 0.5), frameon=True, fancybox=True, shadow=True, facecolor='white')\n",
    "plt.gca().add_artist(legend1)\n",
    "\n",
    "# Title adjustment\n",
    "plt.title('Donut Chart for Student College and Residency', fontsize=12, y=1)\n",
    "# make sure the donut is perfectly round\n",
    "plt.axis('equal')\n",
    "# display the figure\n",
    "plt.show()"
   ]
  },
  {
   "cell_type": "markdown",
   "id": "035d50e9",
   "metadata": {},
   "source": [
    "[Go to Top](#top)\n",
    "<a id='Main-9'></a>\n",
    "### <font color=green>10. Horizontal Lollipop Chart\n",
    "\n",
    "Sometimes, the angles in which the pie chart slices are presented are deceiving. It is more insightful to directly rank the values of (or grouped by) a categorical variable in a lollipop chart\n",
    "***\n",
    "**define one particular column we want to plot as a sub-set and their corresponding labels**<br/>\n",
    "$\\color{orangered}{\\text{x}}$ = $\\color{orangered}{\\text{cat_set}}$['$\\color{goldenrod}{\\text{Banner Student Major}}$'].value_counts()<sup>(1)</sup><br/>\n",
    "$\\color{orangered}{\\text{y}}$ = $\\color{orangered}{\\text{cat_set}}$['$\\color{goldenrod}{\\text{Banner Student Major}}$'].value_counts().index<sup>(1)</sup> <br/>\n",
    "\n",
    "$\\color{orangered}{\\text{fig, ax}}$ = plt.subplots(figsize=($\\color{goldenrod}{\\text{8,6}}$))<br/>\n",
    "    \n",
    "**plot the horizontal lines (the stem of the lolipop)**<sup>(2)</sup><br/>\n",
    "$\\color{orangered}{\\text{ax}}$.hlines(y=$\\color{orangered}{\\text{y}}$, xmin = $\\color{goldenrod}{\\text{0}}$ , xmax = $\\color{orangered}{\\text{x}}$)<br/>\n",
    "**plot the round dots (the head of the lolipop)**<sup>(2)</sup><br/>\n",
    "$\\color{orangered}{\\text{ax}}$.plot($\\color{orangered}{\\text{x, y}}$, marker = \"o\", linewidth = 0)<br/>\n",
    "    \n",
    "plt.title(\"$\\color{goldenrod}{\\text{A Horizontal Lollipop Chart for Student Majors}}$\", loc='$\\color{goldenrod}{\\text{center}}$', fontsize=$\\color{goldenrod}{\\text{10}}$)<br/>\n",
    "   \n",
    "**adjust x&y axes properties**<br/>\n",
    "plt.xlabel('$\\color{goldenrod}{\\text{Counts}}$', fontsize=$\\color{goldenrod}{\\text{8}}$)<br/>\n",
    "plt.ylabel('$\\color{goldenrod}{\\text{Major}}$', fontsize=$\\color{goldenrod}{\\text{9}}$)<br/>\n",
    "plt.xticks(fontsize = $\\color{goldenrod}{\\text{8}}$)<br/>\n",
    "plt.yticks(fontsize = $\\color{goldenrod}{\\text{8}}$, rotation=$\\color{goldenrod}{\\text{90}}$)<sup>(3)</sup><br/>\n",
    "**make the x-axis start with 0**<br/>\n",
    "plt.xlim(left=$\\color{goldenrod}{\\text{0}}$)\n",
    "\n",
    "#fig.savefig($\\color{goldenrod}{\\text{'Horrizontal Lollipop Chart.png}}$', dpi=$\\color{goldenrod}{\\text{300}}$, transparent=$\\color{goldenrod}{\\text{True}}$, $\\color{goldenrod}{\\text{bbox_inches='tight'}}$)<br/>\n",
    "plt.show()<br/>\n",
    "***\n",
    "<div class=\"alert alert-block alert-info\">\n",
    "(1) We define a list of what’s to plot on the x and y-axes. Note that the x and y can be different variables, but one of the two must be of low variance (i.e., has a limited amount of unique values). <br/>\n",
    "(2) A lollipop chart is actually a combination of two plots: the horizontal lines and the dots for each x and y values (<code>hlines(y, xmin, xmax)</code> and <code>plot(marker = \"o\", linewidth = 0)</code>)<br/>\n",
    "(3) We can rotate the ticks for either axis by using ‘<code>rotation</code>’<br/>\n",
    "</div>\n",
    "    \n",
    "<img src='https://github.com/JQi-14/GRADDataAnalysis/blob/main/lollipop.png?raw=true' align='left'>"
   ]
  },
  {
   "cell_type": "markdown",
   "id": "a3774e07",
   "metadata": {},
   "source": [
    "**To-do**\n",
    "* <ins>Rotate the ticks for the y-axis with a different angle"
   ]
  },
  {
   "cell_type": "code",
   "execution_count": null,
   "id": "a46db640",
   "metadata": {},
   "outputs": [],
   "source": [
    "x = cat_set['Banner Student Major'].value_counts()\n",
    "y = cat_set['Banner Student Major'].value_counts().index\n",
    "\n",
    "fig, ax = plt.subplots(figsize=(8,6))\n",
    "\n",
    "ax.hlines(y=y, xmin = 0 , xmax = x)\n",
    "ax.plot(x, y , marker = \"o\", linewidth = 0)\n",
    "\n",
    "plt.title(\"A Horizontal Lollipop Chart for Student Majors\", loc='center', fontsize=10)\n",
    "\n",
    "plt.xlabel('Counts', fontsize=8)\n",
    "plt.ylabel('Major', fontsize=9)\n",
    "plt.xlim(left=0)\n",
    "plt.xticks(fontsize = 8)\n",
    "plt.yticks(fontsize = 8, rotation=0)\n",
    "\n",
    "#fig.savefig('Horrizontal Lollipop Chart.png', dpi=300, transparent=True, bbox_inches='tight')\n",
    "plt.show()"
   ]
  },
  {
   "cell_type": "markdown",
   "id": "2013736f",
   "metadata": {},
   "source": [
    "You can also make **verticle Lollipop chart** with the modified codes below<br/>\n",
    "\n",
    "**To-do**\n",
    "* <ins>Run the codes to see the differences"
   ]
  },
  {
   "cell_type": "code",
   "execution_count": null,
   "id": "1f0fc64c",
   "metadata": {},
   "outputs": [],
   "source": [
    "x = cat_set['Race'].value_counts().index\n",
    "y = cat_set['Race'].value_counts()\n",
    "\n",
    "fig, ax = plt.subplots(figsize=(6,4))\n",
    "ax.vlines(x=x, ymin = 0 , ymax = y)\n",
    "ax.plot(x, y, marker = \"o\", linewidth = 0)\n",
    "\n",
    "plt.title(\"A Vertical Lollipop Chart for Student Race\", loc='center', fontsize=12)\n",
    "\n",
    "plt.ylabel('Counts', fontsize=8)\n",
    "plt.xlabel('College', fontsize=11)\n",
    "plt.xticks(fontsize = 8, rotation=15)\n",
    "plt.yticks(fontsize = 8, rotation=90)\n",
    "\n",
    "#fig.savefig('Verticle Lollipop Chart.png', dpi=300, transparent=True, bbox_inches='tight')\n",
    "plt.show()"
   ]
  },
  {
   "cell_type": "markdown",
   "id": "1536651d",
   "metadata": {},
   "source": [
    "[Go to Top](#top)\n",
    "<a id='Main-x-11'></a>\n",
    "### <font color=green>11 Compare Means by One Categorical Variable\n",
    "\n",
    "* \"Student\" is the pseudonym of the statistician who developed the t-test    \n",
    "* Note that there are many other methods for non-Gaussian data, we will use Welch's t-test and Welch One-way ANOVA for this class.<br/>\n",
    "* **This section is primarily for education purposes due to code modification complexities for beginners, hands-on practice will be carried out in Excel**<br/>    \n",
    "\n",
    "    \n",
    "<img src='https://github.com/JQi-14/GRADDataAnalysis/blob/main/comparemeans.png?raw=true' width=700 align='left'>\n"
   ]
  },
  {
   "cell_type": "markdown",
   "id": "4ea89897",
   "metadata": {},
   "source": [
    "<a id='Main-x-111'></a>\n",
    "#### <font color=green>11.1 Beween Two Groups\n",
    "<font color=mediumseagreen>**11.1.1 Student's t-Test for Dataset with Normal Distribution and Equal Variance</font>**<br/>\n",
    "A Student's t-test is a paramatric statistical test that compares the means of two samples.  <br/>\n",
    "\n",
    "<div class=\"alert alert-block alert-warning\">\n",
    "    The data has to meet <b>two assumptions</b> in order to get valid results for this test: <br/>\n",
    "<b>A</b>. the data is drawn from normal distribution; <br/>\n",
    "<b>B</b>. the samples from populations have equal variances <br/>\n",
    "</div>"
   ]
  },
  {
   "cell_type": "markdown",
   "id": "cfe5738d",
   "metadata": {},
   "source": [
    "**For the Student's t-test example, we want to see if the attempted credit hours are different between genders**"
   ]
  },
  {
   "cell_type": "markdown",
   "id": "83dbba95",
   "metadata": {},
   "source": [
    "**A**. First, we will check for normal distribution (i.e., whether the data is Gaussian) with the Shapiro-Wilk Test `shapiro()`<br/>\n",
    "<div class=\"alert alert-block alert-info\">\n",
    "    <b>Shapiro-Wilk Test Interpretation</b>: <br/>\n",
    "    If the p-value is greater than 0.05, the data is normally distributed.\n",
    "    </div>"
   ]
  },
  {
   "cell_type": "markdown",
   "id": "f1714aa5",
   "metadata": {},
   "source": [
    "***\n",
    "**Generate two sets of data in the 'Hours Attmpt' column based on all categories in 'Gender' (a categorical variable)**<br/>\n",
    "$\\color{orangered}{\\text{group1}}$ = $\\color{orangered}{\\text{dataset}}$['$\\color{goldenrod}{\\text{Hours Attmpt'}}$].loc[$\\color{orangered}{\\text{dataset}}$['$\\color{goldenrod}{\\text{Gender}}$'] == '$\\color{goldenrod}{\\text{F}}$'] <br/>\n",
    "$\\color{orangered}{\\text{group2}}$ = $\\color{orangered}{\\text{dataset}}$['$\\color{goldenrod}{\\text{Hours Attmpt'}}$].loc[$\\color{orangered}{\\text{dataset}}$['$\\color{goldenrod}{\\text{Gender}}$'] == '$\\color{goldenrod}{\\text{M}}$'] <br/>\n",
    "\n",
    "**combine the two sets**<br/>\n",
    "$\\color{orangered}{\\text{groups}}$=($\\color{orangered}{\\text{group1,group2}}$)<br/>\n",
    "**give them proper names**<br/>\n",
    "$\\color{orangered}{\\text{group_name}}$=($\\color{goldenrod}{\\text{'Female', 'Male'}}$)<br/>\n",
    "\n",
    "**use a for-loop to perform the test for the two sets**<br/>\n",
    "for $\\color{orangered}{\\text{i,j}}$ in zip($\\color{orangered}{\\text{groups,group_name}}$): <br/>\n",
    "**begin each analysis with each categories in gender printed in bold with underscores and in a new line**<br/> \n",
    "    print('\\n'+'\\033[1m'+'\\033[4m' +$\\color{orangered}{\\text{j}}$+'\\033[0m') <br/>\n",
    "    **the analysis function returns two values!!**<br/>\n",
    "    $\\color{orangered}{\\text{stat, p}}$ = stats.shapiro($\\color{orangered}{\\text{i}}$)<br/>\n",
    "    **print the analysis results and round to 3 digits after the decimal point**<br/>\n",
    "    print('Shapiro-Wilk Test Statistics =%.$\\color{goldenrod}{\\text{3}}$f, p=%.$\\color{goldenrod}{\\text{3}}$f' % ($\\color{orangered}{\\text{stat, p}}$))<br/>\n",
    "***"
   ]
  },
  {
   "cell_type": "code",
   "execution_count": null,
   "id": "1488526c",
   "metadata": {},
   "outputs": [],
   "source": [
    "group1 = dataset['Hours Attmpt'].loc[dataset['Gender'] == 'F'] \n",
    "group2 = dataset['Hours Attmpt'].loc[dataset['Gender'] == 'M'] \n",
    "\n",
    "groups=(group1,group2)\n",
    "group_name=('Female', 'Male')\n",
    "\n",
    "\n",
    "# perform the Shapiro-Wilk Test and print the results\n",
    "for i,j in zip(groups,group_name): \n",
    "    print('\\n'+'\\033[1m'+'\\033[4m' +j+'\\033[0m') \n",
    "    stat, p = stats.shapiro(i)  # it returns two values!!\n",
    "    print('Shapiro-Wilk Test Statistics =%.3f, p=%.3f' % (stat, p))"
   ]
  },
  {
   "cell_type": "markdown",
   "id": "4aa6dbd5",
   "metadata": {},
   "source": [
    "<b><font color=orangered>For the sake of this demostration, let's just pretend the two sub-datasets are normally distributed</b>\n",
    "\n",
    "\n",
    "**B**. Second, we compare the varainces among all groups with the Levene Test `levene()`\n",
    "<div class=\"alert alert-block alert-info\">\n",
    "    <b>Levene Test Interpretation</b>: <br/>\n",
    "    If the p-value is greater than 0.05, the variances are not significantly different\n",
    "    </div>"
   ]
  },
  {
   "cell_type": "markdown",
   "id": "cc7a339c",
   "metadata": {},
   "source": [
    "***\n",
    "**Calculate the Levene test and p-value**<br/>\n",
    "$\\color{orangered}{\\text{stat, p_val}}$ = levene($\\color{orangered}{\\text{group1, group2}}$)<br/>\n",
    "\n",
    "**Print the results**<br/>\n",
    "print(\"Levene test statistic: \", $\\color{orangered}{\\text{stat}}$)<br/>\n",
    "print(\"p-value: \", $\\color{orangered}{\\text{p_val}}$)<br/>\n",
    "***"
   ]
  },
  {
   "cell_type": "code",
   "execution_count": null,
   "id": "fc71b299",
   "metadata": {},
   "outputs": [],
   "source": [
    "stat, p_val = levene(group1, group2)\n",
    "\n",
    "print(\"Levene test statistic: \", stat)\n",
    "print(\"p-value: \", p_val)"
   ]
  },
  {
   "cell_type": "markdown",
   "id": "2b7325c5",
   "metadata": {},
   "source": [
    "* The Levene test results show that there are no significant difference in variances between the two groups"
   ]
  },
  {
   "cell_type": "markdown",
   "id": "0ad36cdd",
   "metadata": {},
   "source": [
    "**Now, (as we pretend) the two assumptions are met, we can perform the Student's t-test** `ttest_ind()`"
   ]
  },
  {
   "cell_type": "markdown",
   "id": "05c12a56",
   "metadata": {},
   "source": [
    "<div class=\"alert alert-block alert-info\">\n",
    "<b>Student's t-test Interpretation</b>:<br/>\n",
    "The greater the <ins>absolute value</ins> of the t-statistic, the stronger the difference between the means <br/>\n",
    "If the p-value is less than 0.05, the difference between the two means is <ins>statistically</ins> significant\n",
    "    </div>"
   ]
  },
  {
   "cell_type": "markdown",
   "id": "65bd7660",
   "metadata": {},
   "source": [
    "***\n",
    "**Calculate the t-test and p-value**<br/>\n",
    "$\\color{orangered}{\\text{t_stat, p_val}}$ = ttest_ind($\\color{orangered}{\\text{group1, group2}}$)\n",
    "\n",
    "**Print the results**<br/>\n",
    "print(\"t-statistic: \", $\\color{orangered}{\\text{t_stat}}$)\n",
    "print(\"p-value: \", $\\color{orangered}{\\text{p_val}}$)\n",
    "***"
   ]
  },
  {
   "cell_type": "code",
   "execution_count": null,
   "id": "34d0850f",
   "metadata": {},
   "outputs": [],
   "source": [
    "t_stat, p_val = ttest_ind(group1, group2)\n",
    "\n",
    "print(\"t-statistic: \", t_stat)\n",
    "print(\"p-value: \", p_val)"
   ]
  },
  {
   "cell_type": "markdown",
   "id": "6972fd36",
   "metadata": {},
   "source": [
    "* The result suggests that there is no <ins>statistical</ins> difference in credit hours attempted between female and male students."
   ]
  },
  {
   "cell_type": "markdown",
   "id": "2ed431af",
   "metadata": {},
   "source": [
    "[Go to Top](#top)<br/>\n",
    "<a id='Main-x-1112'></a>\n",
    "**<font color=mediumseagreen>11.1.2 Welch's t-test for Dataset without Equal Variance**<br/>\n",
    "    \n",
    "Welch's t-test is an alternative to the Student's t-test when the dataset violates both assumptions.<br/>\n",
    "Note: the codes are mostly the same, but with an additional paramter `equal_var=False` to the `ttest_ind()` function, <br/> \n",
    "\n",
    "\n",
    "**For the Welch's t-test example, we want to check if time-to-degree is different between students who have received GSSF and those who haven't**\n",
    "    \n",
    "No need for the normality check for this non-paramatric test. But, we still should check for the equal variance with the Levene Test `levene()`"
   ]
  },
  {
   "cell_type": "code",
   "execution_count": null,
   "id": "58f18e8b",
   "metadata": {},
   "outputs": [],
   "source": [
    "# Generate sets of data in the 'Time-to-Degree' column \n",
    "# based on two selected categories in 'Grad School Fellowship' (a categorical variable)\n",
    "group1 = dataset['Time-to-Degree'].loc[dataset['Grad School Fellowship'] == 'no'] \n",
    "group2 = dataset['Time-to-Degree'].loc[dataset['Grad School Fellowship'] == 'GSSF'] \n",
    "\n",
    "# Calculate the Levene test and p-value\n",
    "stat, p_val = levene(group1, group2)\n",
    "\n",
    "# Print the results\n",
    "print(\"Levene test statistic: \", stat)\n",
    "print(\"p-value: \", p_val)"
   ]
  },
  {
   "cell_type": "markdown",
   "id": "448a9fa3",
   "metadata": {},
   "source": [
    "* The test result shows that the variances are significantly different"
   ]
  },
  {
   "cell_type": "markdown",
   "id": "c58068b3",
   "metadata": {},
   "source": [
    "<div class=\"alert alert-block alert-info\">\n",
    "<b>Welch's t-test Interpretation</b>:<br/>\n",
    "The greater the absolute value of the t-statistic, the stronger the difference between the means <br/>\n",
    "If the p-value is less than 0.05, the difference between the two means is <ins>statistically</ins> significant\n",
    "    </div>"
   ]
  },
  {
   "cell_type": "code",
   "execution_count": null,
   "id": "c8d7e5a5",
   "metadata": {},
   "outputs": [],
   "source": [
    "# Perform Welch's t-test\n",
    "t_stat, p_val = ttest_ind(group1, group2, equal_var=False)\n",
    "\n",
    "# Print the results\n",
    "print(\"t-statistic: \", t_stat)\n",
    "print(\"p-value: \", p_val)"
   ]
  },
  {
   "cell_type": "markdown",
   "id": "4b243cfe",
   "metadata": {},
   "source": [
    "* The result suggests that the difference in time-to-degree between the students who have received the GSSF or not is <ins>statistically</ins> significant."
   ]
  },
  {
   "cell_type": "markdown",
   "id": "8102b0e0",
   "metadata": {
    "tags": []
   },
   "source": [
    "[Go to Top](#top)\n",
    "<a id='Main-x-112'></a>\n",
    "#### <font color=green>11.2 Compare Means among Three or More Groups\n",
    "\n",
    "**<font color=mediumseagreen>11.2.1 One-Way ANOVA**</font><br/>\n",
    "**ANOVA** is a paramatric statistical analysis and it assumes that the data is normally distributed and that the variances of the groups are equal.<br/> <ins>If these assumptions are not met, then ANOVA may not be an appropriate method</ins>.  \n",
    "\n",
    "<div class=\"alert alert-block alert-warning\">\n",
    "    The data has to meet <b>two assumptions</b> in order to get valid results for ANOVA: <br/>\n",
    "<b>A</b>. the data is drawn from normal distribution; <br/>\n",
    "<b>B</b>. the samples from populations have equal variances <br/>\n",
    "</div>    "
   ]
  },
  {
   "cell_type": "markdown",
   "id": "20ae7973",
   "metadata": {},
   "source": [
    "**In the example using One-Way ANOVA, we want to see if students' ages are different among different majors**\n",
    "* Note that, for this example, we choose three majors that have similar sample sizes"
   ]
  },
  {
   "cell_type": "markdown",
   "id": "a047bd57",
   "metadata": {},
   "source": [
    "**A**. Similarly to what we have done with the Student's t-test, we check for normal distribution first with the Shapiro-Wilk Test `shapiro()`<BR/>\n",
    "* Note that the result of a Shapiro-Wilk Test is less reliable when the sample size is extremely small"
   ]
  },
  {
   "cell_type": "code",
   "execution_count": null,
   "id": "1260d86a",
   "metadata": {
    "scrolled": true
   },
   "outputs": [],
   "source": [
    "# Generate sets of data in the 'Age' column \n",
    "# based on three selected categories in 'Banner Student Major'\n",
    "group1 = dataset['Age'].loc[dataset['Banner Student Major'] == 'EEGR'] \n",
    "group2 = dataset['Age'].loc[dataset['Banner Student Major'] == 'MEGR'] \n",
    "group3 = dataset['Age'].loc[dataset['Banner Student Major'] == 'BIOL'] \n",
    "\n",
    "groups=(group1, group2, group3)\n",
    "group_name=('EEGR', 'MEGR', 'BIOL')\n",
    "\n",
    "for i,j in zip(groups,group_name): \n",
    "    # Shapiro-Wilk Test\n",
    "    print('\\n'+'\\033[1m'+'\\033[4m' +j+'\\033[0m') \n",
    "    stat, p = stats.shapiro(i)  # it returns two values!!\n",
    "    print('Shapiro-Wilk Test Statistics =%.3f, p=%.3f' % (stat, p))\n",
    "    # interpret\n",
    "    alpha = 0.05\n",
    "    if p > alpha:  # only the p-value matters it seems\n",
    "        print('Shapiro-Wilk Test result: Normally distributed!')\n",
    "    else:\n",
    "        print('Shapiro-Wilk Test result: Not normally distributed')"
   ]
  },
  {
   "cell_type": "markdown",
   "id": "44ff4b38",
   "metadata": {},
   "source": [
    "<ins><b><font color=orangered>For the sake of this demostration, let's just pretend the three sub-datasets are normally distributed</b></ins>"
   ]
  },
  {
   "cell_type": "markdown",
   "id": "23e9023a",
   "metadata": {},
   "source": [
    "**B**. Then we check for heterogeneity of variances with Levene test `levene()`"
   ]
  },
  {
   "cell_type": "code",
   "execution_count": null,
   "id": "0b7b2f8d",
   "metadata": {},
   "outputs": [],
   "source": [
    "# Calculate the Levene test and p-value\n",
    "stat, p_val = levene(group1, group2, group3)\n",
    "\n",
    "# Print the results\n",
    "print(\"Levene test statistic: \", stat)\n",
    "print(\"p-value: \", p_val)"
   ]
  },
  {
   "cell_type": "markdown",
   "id": "6164eda6",
   "metadata": {},
   "source": [
    "* The Levene test results suggest that the variances among the three groups not different"
   ]
  },
  {
   "cell_type": "markdown",
   "id": "362b8b76",
   "metadata": {},
   "source": [
    "**Now, (as we pretend) the two assumptions are met, we can perform one-way ANOVA** `f_oneway()`"
   ]
  },
  {
   "cell_type": "markdown",
   "id": "7fc407d6",
   "metadata": {},
   "source": [
    "<div class=\"alert alert-block alert-info\">\n",
    "<b>One-Way ANOVA Results Interpretation</b>: <br/>\n",
    "1) The more significant the F-statistic, the stronger the indication that there is a variation between the means of the groups.<br/>\n",
    "2) A p-value lower than 0.05 suggests a significant statistical difference between the compared group means.<br/>"
   ]
  },
  {
   "cell_type": "markdown",
   "id": "3abf829f",
   "metadata": {},
   "source": [
    "***\n",
    "**Perform ANOVA using f_oneway**<br/>\n",
    "$\\color{orangered}{\\text{f_stat, p_value}}$ = f_oneway($\\color{orangered}{\\text{group1, group2, group3}}$)<br/>\n",
    "\n",
    "**Print the results**<br/>\n",
    "print(\"F statistic:\", $\\color{orangered}{\\text{f_stat}}$)<br/>\n",
    "print(\"p-value:\", $\\color{orangered}{\\text{p_value}}$)\n",
    "***"
   ]
  },
  {
   "cell_type": "code",
   "execution_count": null,
   "id": "0ab85290",
   "metadata": {},
   "outputs": [],
   "source": [
    "# Perform ANOVA using f_oneway\n",
    "f_stat, p_value = f_oneway(group1, group2, group3)\n",
    "\n",
    "# Print the results\n",
    "print(\"F statistic:\", f_stat)\n",
    "print(\"p-value:\", p_value)"
   ]
  },
  {
   "cell_type": "markdown",
   "id": "70e7ba51",
   "metadata": {},
   "source": [
    "* The result suggests that there is no <ins>statistical</ins> difference in age among students in EEGR, MEGR, BIOL majors"
   ]
  },
  {
   "cell_type": "markdown",
   "id": "bde32bb9",
   "metadata": {},
   "source": [
    "[Go to Top](#top)<br/>\n",
    "<a id='Main-x-1122'></a>\n",
    "**<font color=mediumseagreen>11.2.2 One-Way Welch ANOVA**\n",
    "\n",
    "The Welch ANOVA is a non-parametric alternative to ANOVA that does not assume equal variances across groups. <br/>\n",
    "    \n",
    "The `welch_anova()` function from the pingouin module can be used to perform Welch ANOVA in Python. This function is supported by an external library called `pingouin`, which provides substaintial statitically analyses\n",
    "https://pingouin-stats.org/build/html/api.html#. You have to install it first in order to use it by running this line only once on the same computer `pip install pingouin`. However, JupyterLab does not allow the use of external Python libraries.<br/>\n",
    "    \n",
    "<INS>Thus, the section below is for general education purposes only. "
   ]
  },
  {
   "cell_type": "markdown",
   "id": "e4b86f4e",
   "metadata": {},
   "source": [
    "**In the example using One-Way Welch ANOVA, we want to see whether Calculated 202110 Award Amount is different for students in different colleges**\n",
    "* The selected four groups by college have unequal sample sizes, which Welch's ANOVA test is more appropriate for. \n",
    "\n",
    "Again, we need to check if the subdatasets have unequal variances with the Levene test `levene()`"
   ]
  },
  {
   "cell_type": "code",
   "execution_count": null,
   "id": "32be76a0",
   "metadata": {},
   "outputs": [],
   "source": [
    "# Generate sets of data in the 'Calculated 202110 Award Amount' column \n",
    "# based on four selected categories in 'Banner Student College'\n",
    "group1 = dataset['Calculated 202110 Award Amount'].loc[dataset['Banner Student College'] == 'Liberal Arts & Sciences'] \n",
    "group2 = dataset['Calculated 202110 Award Amount'].loc[dataset['Banner Student College'] == 'Engineering'] \n",
    "group3 = dataset['Calculated 202110 Award Amount'].loc[dataset['Banner Student College'] == 'Computing and Informatics'] \n",
    "group4 = dataset['Calculated 202110 Award Amount'].loc[dataset['Banner Student College'] == 'Education'] \n",
    "\n",
    "# Calculate the Levene test and p-value\n",
    "stat, p_val = levene(group1, group2, group3, group4)\n",
    "\n",
    "# Print the results\n",
    "print(\"Levene test statistic: \", stat)\n",
    "print(\"p-value: \", p_val)"
   ]
  },
  {
   "cell_type": "markdown",
   "id": "c87f6240",
   "metadata": {},
   "source": [
    "* The p-value from the Levene test shows that the sample groups are statistically different; Thus, One-way Welch ANOVA is appropriate"
   ]
  },
  {
   "cell_type": "markdown",
   "id": "2b3b6412",
   "metadata": {},
   "source": [
    "**We now can proceed to perform the one-way Welch ANOVA with** `welch_anova()`\n",
    "\n",
    "\n",
    "<div class=\"alert alert-block alert-warning\">\n",
    "    You will not be able to run the code block below unless you have installed <code>pingouin</code>. You can skip it and simply observe the results in the screenshot below."
   ]
  },
  {
   "cell_type": "markdown",
   "id": "5059b2f1",
   "metadata": {},
   "source": [
    "***\n",
    "**import the external library which can perform the One way Welch ANOVA and give it a nickname**<br/>\n",
    "import pingouin as pg<br/>\n",
    "\n",
    "**create the subdataset that only include students from the four selected colleges**<br/>\n",
    "$\\color{orangered}{\\text{subset_4college}}$=$\\color{orangered}{\\text{dataset}}$.loc[$\\color{orangered}{\\text{dataset}}$['$\\color{goldenrod}{\\text{Banner Student College}}$'].isin(\n",
    "['$\\color{goldenrod}{\\text{Liberal Arts & Sciences','Engineering','Computing and Informatics','Education}}$'])] <br/>\n",
    "\n",
    "**Perform Welch ANOVA using pingouin to compare 'Calculated 202110 Award Amount' for students in the four selected colleges**<br/>\n",
    "$\\color{orangered}{\\text{result}}$ = pg.welch_anova(data=$\\color{orangered}{\\text{subset_4college}}$, dv='$\\color{goldenrod}{\\text{Calculated 202110 Award Amount}}$', between='$\\color{goldenrod}{\\text{Banner Student College}}$')<br/>\n",
    "\n",
    "**Print the results**<br/>\n",
    "print($\\color{orangered}{\\text{result}}$)<br/>\n",
    "***"
   ]
  },
  {
   "cell_type": "markdown",
   "id": "e1d9a930",
   "metadata": {},
   "source": [
    "<div class=\"alert alert-block alert-info\">\n",
    "<b>One-Way Welch ANOVA Results Interpretation</b>: <br/>\n",
    "1) The more significant the F-statistic, the stronger the indication that there is a variation between the means of the groups.<br/>\n",
    "2) A p-value lower than 0.05 suggests a significant statistical difference between the compared group means.<br/>"
   ]
  },
  {
   "cell_type": "code",
   "execution_count": null,
   "id": "4bdbd5b9",
   "metadata": {},
   "outputs": [],
   "source": [
    "import pingouin as pg\n",
    "\n",
    "\n",
    "subset_4college=dataset.loc[dataset['Banner Student College'].isin(['Liberal Arts & Sciences', \n",
    "                                                                  'Engineering',\n",
    "                                                                  'Computing and Informatics', \n",
    "                                                                    'Education']) ] \n",
    "\n",
    "\n",
    "result = pg.welch_anova(data=subset_4college, dv='Calculated 202110 Award Amount', between='Banner Student College')\n",
    "\n",
    "\n",
    "print(result)"
   ]
  },
  {
   "cell_type": "markdown",
   "id": "bab4b5dc",
   "metadata": {},
   "source": [
    "* The results suggest that there are  <ins>statistically</ins> significant differences in 202110 Award Amount based on students's colleges (only considered the top four colledges)\n",
    "\n",
    "<IMG SRC='https://github.com/JQi-14/GRADDataAnalysis/blob/main/welchanova.png?raw=true' width=700 align='left'>"
   ]
  },
  {
   "cell_type": "markdown",
   "id": "755714cf",
   "metadata": {},
   "source": [
    "[Go to Top](#top)\n",
    "<a id='Main-10'></a>\n",
    "### <font color=green>12. Correlations for Numerical Variables"
   ]
  },
  {
   "cell_type": "markdown",
   "id": "d71fe65f",
   "metadata": {},
   "source": [
    "#### <font color=green>12.1 Scatter Plots\n",
    "\n",
    "We create scatter plots to visually inspect if there is a correlation between two variables, such as a linear relationship)\n",
    "***\n",
    "**Apply a different color style to the plot**<br/>\n",
    "plt.style.use('$\\color{goldenrod}{\\text{seaborn}}$')<sup>(1)</sup><br/>\n",
    "\n",
    "**activate `tight_layout` here to properly show the legends**<br/>\n",
    "$\\color{orangered}{\\text{fig, ax}}$ = plt.subplots(figsize=($\\color{goldenrod}{\\text{4,4}}$), tight_layout=$\\color{goldenrod}{\\text{True}}$)<br/>\n",
    "\n",
    "**draw the scatter plot**<br/>\n",
    "$\\color{orangered}{\\text{ax}}$.scatter($\\color{orangered}{\\text{num_set}}$['$\\color{goldenrod}{\\text{Time-to-Degree}}$'], $\\color{orangered}{\\text{num_set}}$['$\\color{goldenrod}{\\text{Age}}$'], s=$\\color{goldenrod}{\\text{20}}$)<sup>(2)</sup><br/>\n",
    "\n",
    "**configure the figure properties**<br/>\n",
    "plt.title('$\\color{goldenrod}{\\text{A Scatter Plot}}$', fontsize=$\\color{goldenrod}{\\text{13}}$)<br/>\n",
    "plt.xticks(fontsize = $\\color{goldenrod}{\\text{10}}$)<sup>(3)</sup><br/>\n",
    "plt.yticks(fontsize = $\\color{goldenrod}{\\text{10}}$)<br/>\n",
    "plt.xlabel('$\\color{goldenrod}{\\text{Time-to-Degree}}$', fontsize = $\\color{goldenrod}{\\text{10}}$)<br/>\n",
    "plt.ylabel('$\\color{goldenrod}{\\text{Age}}$', fontsize = $\\color{goldenrod}{\\text{10}}$)<br/>\n",
    "\n",
    "**show the plot**<br/>\n",
    "plt.show()<br/>\n",
    "***\n",
    "<div class=\"alert alert-block alert-info\">\n",
    "(1) You can change the color style (<code>style.use()</code>) of the plots (options: ‘<code>default</code>’, ’<code>classic</code>’, ‘<code>grayscale</code>’,’<code>ggplot</code>’, ‘<code>seaborn</code>’, ‘<code>fast</code>’, ‘<code>bmh</code>’, etc.) <br/>\n",
    "(2) We will make a scatter plot of time-to-degree against age. We can adjust the size of the dots with the `s` parameter<br/>\n",
    "(3) We set the font sizes of the ticks and labels for x and y axes all to 10 (<code>xticks()</code>, <code>yticks()</code>, <code>xlabel()</code>, <code>ylabel()</code>)<br/>\n",
    "</div>\n",
    "\n",
    "<img src='https://github.com/JQi-14/GRADDataAnalysis/blob/main/scatter.png?raw=true' width=250 align='left'>"
   ]
  },
  {
   "cell_type": "markdown",
   "id": "704b40bf",
   "metadata": {},
   "source": [
    "**To-do**\n",
    "* <ins>Try a different style</ins>\n",
    "* <ins>Make a scatter plot using `Hours Attmpt` against `Time-to-Degree`</ins>"
   ]
  },
  {
   "cell_type": "code",
   "execution_count": null,
   "id": "5e8ccd3f",
   "metadata": {},
   "outputs": [],
   "source": [
    "plt.style.use('seaborn')\n",
    "\n",
    "fig, ax = plt.subplots(figsize=(4,4),  tight_layout=True)\n",
    "\n",
    "ax.scatter(num_set['Time-to-Degree'], num_set['Age'],  s=20)\n",
    "\n",
    "plt.title('A Scatter Plot', fontsize=12)\n",
    "plt.xticks(fontsize = 10)\n",
    "plt.yticks(fontsize = 10)\n",
    "plt.xlabel('Time-to-Degree', fontsize = 11)\n",
    "plt.ylabel('Age', fontsize = 11)\n",
    "\n",
    "#fig.savefig('Scatter Plot.png', dpi=300, transparent=True, bbox_inches='tight')\n",
    "plt.show()"
   ]
  },
  {
   "cell_type": "markdown",
   "id": "e329f66f",
   "metadata": {},
   "source": [
    "[Go to Top](#top)<br/>\n",
    "<a id='Main-10-2'></a>\n",
    "#### <font color=green>12.2 Pairwise Scatter Plots (Fancy Python Chart Showoff)\n",
    "This is a shortcut to show all possible scatter plots between any two variables within the dataset<br/>\n",
    "However, there are pitfalls when interpretating this type of plot: https://scikit-learn.org/stable/auto_examples/inspection/plot_linear_model_coefficient_interpretation.html#sphx-glr-auto-examples-inspection-plot-linear-model-coefficient-interpretation-py\n",
    "\n",
    "***\n",
    "**pick three continuous variables to be included in the pairwise scatter plots\n",
    "we can use the entire num_set if you want but it makes the plot huge**<br/>\n",
    "$\\color{orangered}{\\text{sub_set_names}}$=['$\\color{goldenrod}{\\text{Time-to-Degree',  'Age', 'Hours Attmpt'}}$]<br/>\n",
    "\n",
    "**Pick the categorical variable we want to use as the hue displayed in the plots**<br/>\n",
    "$\\color{orangered}{\\text{COLORS }}$= [$\\color{goldenrod}{\\text{\"pink\", \"skyblue\", \"gold\",'limegreen','red'}}$ ]<sup>(1)</sup><br/>\n",
    "$\\color{orangered}{\\text{cats }}$= [$\\color{goldenrod}{\\text{'Less Than Half Time', 'Half Time', 'Three-Quarter Time', 'Full Time','Zero Enrolled Hours'}}$]<br/>\n",
    "\n",
    "**A layout of 3x3 subplots, meaning a total of 9 plots, with plots in the same column share the same x axis**<br/>\n",
    "$\\color{orangered}{\\text{fig, axes}}$ = plt.subplots($\\color{goldenrod}{\\text{3, 3}}$, figsize = ($\\color{goldenrod}{\\text{8, 6}}$), $\\color{goldenrod}{\\text{sharex=\"col}}$\")<br/>\n",
    "$\\color{orangered}{\\text{fig}}$.suptitle('$\\color{goldenrod}{\\text{Pretty Pairwise Scatter Plots}}$', fontsize=$\\color{goldenrod}{\\text{16}}$)<br/>\n",
    "\n",
    "**we plot the scatter plots one by one with the for-loop by its 'axes' index that we defined in `subplots()`**<br/>\n",
    "**we first set up the labels for the axes**<br/>\n",
    "for $\\color{orangered}{\\text{i}}$ in range(len($\\color{orangered}{\\text{sub_set_names}}$)):<br/>\n",
    "    plt.setp(axes[-1, $\\color{orangered}{\\text{i}}$], xlabel=$\\color{orangered}{\\text{sub_set_names[i]}}$)<br/>\n",
    "    for $\\color{orangered}{\\text{j}}$ in range(len($\\color{orangered}{\\text{sub_set_names}}$)):<br/>\n",
    "        plt.setp(axes[$\\color{orangered}{\\text{j}}$, 0], ylabel=$\\color{orangered}{\\text{sub_set_names[j]}}$)<br/>\n",
    "    \n",
    "**If this is the lower-triangule, plot a scatterlpot for each group**<br/>\n",
    "        if $\\color{orangered}{\\text{i}}$ > $\\color{orangered}{\\text{j}}$:\n",
    "            for $\\color{orangered}{\\text{cat, color}}$ in zip($\\color{orangered}{\\text{cats, COLORS}}$):<br/>\n",
    "                $\\color{orangered}{\\text{data}}$ = $\\color{orangered}{\\text{dataset[dataset}}$['$\\color{goldenrod}{\\text{Time Status}}$'] == $\\color{orangered}{\\text{cat}}$]<br/>\n",
    "                $\\color{orangered}{\\text{axes[i, j]}}$.scatter($\\color{orangered}{\\text{sub_set_names[j], sub_set_names[i]}}$, color=$\\color{orangered}{\\text{color}}$, alpha=$\\color{orangered}{\\text{0.9}}$, data=$\\color{orangered}{\\text{data}}$, s=$\\color{orangered}{\\text{8}}$)<sup>(2)</sup><br/>\n",
    "        \n",
    "**If this is the main diagonal, plot histograms**<br/>\n",
    "        if $\\color{orangered}{\\text{i}}$ == $\\color{orangered}{\\text{j}}$:<br/>\n",
    "            for $\\color{orangered}{\\text{cat, color}}$ in zip($\\color{orangered}{\\text{cats, COLORS}}$):<br/>\n",
    "                $\\color{orangered}{\\text{data}}$ = $\\color{orangered}{\\text{dataset[dataset}}$['$\\color{goldenrod}{\\text{Time Status}}$'] == $\\color{orangered}{\\text{cat}}$]<br/>\n",
    "                $\\color{orangered}{\\text{axes[i, j]}}$.hist($\\color{orangered}{\\text{sub_set_names[j]}}$, bins=$\\color{orangered}{\\text{15}}$, alpha=$\\color{orangered}{\\text{0.9}}$, data=$\\color{orangered}{\\text{data}}$, color=$\\color{orangered}{\\text{color}}$)<sup>(2)</sup><br/>\n",
    "\n",
    "                \n",
    "**remove the identical ones on the upper right one by one**<br/>\n",
    "for $\\color{orangered}{\\text{i}}$ in range(len($\\color{orangered}{\\text{sub_set_names}}$)):<br/>\n",
    "    for $\\color{orangered}{\\text{j}}$ in range(len($\\color{orangered}{\\text{sub_set_names}}$)):<br/>\n",
    "**If on the upper triangle**<br/>\n",
    "        if $\\color{orangered}{\\text{i}}$ < $\\color{orangered}{\\text{j}}$: <br/>\n",
    "            $\\color{orangered}{\\text{axes[i, j]}}$.remove()<br/>\n",
    "            \n",
    "            \n",
    "\n",
    "plt.legend($\\color{orangered}{\\text{cats}}$, title='$\\color{goldenrod}{\\text{Time Status}}$', loc=\"$\\color{goldenrod}{\\text{upper right}}$\", $\\color{goldenrod}{\\text{bbox_to_anchor=(1,3.5)}}$) <br/>\n",
    "#plt.savefig('$\\color{orangered}{\\text{Pretty Pairwise Scatter.png}}$', dpi=$\\color{orangered}{\\text{300}}$, transparent=$\\color{orangered}{\\text{False}}$, $\\color{orangered}{\\text{bbox_inches='tight'}}$)<sup>(3)</sup><br/>\n",
    "plt.show()    <br/> \n",
    "***    \n",
    "    \n",
    "    \n",
    "<div class=\"alert alert-block alert-info\">\n",
    "(1) The COLORS variable takes exactly five values for the five categories in the ‘Time Status’ column<br/>\n",
    "(2) ‘<code>Alpha</code>’ parameter modifies the transparency of the scatter plots<br/>\n",
    "(3) You can delete ‘<code>transparent=True</code>’ if you don’t want the saved figure to have a transparent background.\n",
    "Or you can set <code>transparent=False</code>\n",
    "\n",
    "</div>\n",
    "    \n",
    "<img src='https://github.com/JQi-14/GRADDataAnalysis/blob/main/ppsp.png?raw=true' align='left'>"
   ]
  },
  {
   "cell_type": "markdown",
   "id": "a167a6ca",
   "metadata": {},
   "source": [
    "**To-do**\n",
    "* <ins>Try out different colors</ins> https://matplotlib.org/stable/gallery/color/named_colors.html \n",
    "* <ins>Try out different ‘alpha’ parameters in the `scatter()` and `hist()`\n",
    "* <ins>Run the codes\n"
   ]
  },
  {
   "cell_type": "code",
   "execution_count": null,
   "id": "3777e81b",
   "metadata": {},
   "outputs": [],
   "source": [
    "#pick three to be included in the pairwise scatter plots, \n",
    "#you can use the entire num_set if you want but it makes the plot too big\n",
    "sub_set_names=['Time-to-Degree',  'Age', 'Hours Attmpt']\n",
    "\n",
    "#Pick the categorical variable you want to use\n",
    "COLORS = [\"pink\", \"skyblue\", \"gold\",'limegreen','red' ]\n",
    "cats = ['Less Than Half Time', 'Half Time', 'Three-Quarter Time', 'Full Time','Zero Enrolled Hours']\n",
    "\n",
    "# A layout of 3x3 subplots\n",
    "fig, axes = plt.subplots(3, 3, figsize = (8, 6), sharex=\"col\")\n",
    "fig.suptitle('Pretty Pairwise Scatter Plots', fontsize=16)\n",
    "\n",
    "\n",
    "for i in range(len(sub_set_names)):\n",
    "    plt.setp(axes[-1, i], xlabel=sub_set_names[i])\n",
    "\n",
    "    for j in range(len(sub_set_names)):\n",
    "        plt.setp(axes[j, 0], ylabel=sub_set_names[j])\n",
    "        # If this is the lower-triangule, add a scatterlpot for each group.\n",
    "        if i > j:\n",
    "            for cat, color in zip(cats, COLORS):\n",
    "                data = dataset[dataset['Time Status'] == cat]\n",
    "                axes[i, j].scatter(sub_set_names[j], sub_set_names[i], color=color, alpha=0.9, data=data, s=8)\n",
    "\n",
    "        # If this is the main diagonal, add histograms\n",
    "        if i == j:\n",
    "            for cat, color in zip(cats, COLORS):\n",
    "                data = dataset[dataset['Time Status'] == cat]\n",
    "                axes[i, j].hist(sub_set_names[j], bins=15, alpha=0.9, data=data, color=color)\n",
    "\n",
    "                \n",
    "#remove the identical ones on the upper right one by one\n",
    "for i in range(len(sub_set_names)):\n",
    "\n",
    "    for j in range(len(sub_set_names)):\n",
    "\n",
    "        # If on the upper triangle\n",
    "        if i < j:\n",
    "            axes[i, j].remove()\n",
    "            \n",
    "            \n",
    "plt.legend(cats, title='Time Status', loc=\"upper right\", bbox_to_anchor=(1,3.5)) \n",
    "#plt.savefig('Pretty Pairwise Scatter.png', dpi=300, transparent=False, bbox_inches='tight')\n",
    "plt.show() "
   ]
  },
  {
   "cell_type": "markdown",
   "id": "adf146d3",
   "metadata": {
    "tags": []
   },
   "source": [
    "[Go to Top](#top)<br/>\n",
    "<a id='Main-10-4'></a>\n",
    "#### <font color=green>12.3 Correlation Matrix for Numerical and Boolean Data\n",
    "\n",
    "Awesome further reading on correlations:\n",
    "https://www.spss-tutorials.com/pearson-correlation-coefficient/ <br/> \n",
    "Note that this matrix does not include information on p values associated with the displayed correlation coefficients, they need to be calculated seperately. We are not covering this part for the class. \n",
    "\n",
    "***\n",
    "$\\color{orangered}{\\text{map}}$=$\\color{orangered}{\\text{dataset}}$.corr(method ='$\\color{goldenrod}{\\text{pearson}}$').round($\\color{goldenrod}{\\text{2}}$)  <sup>(1)</sup> <br/>\n",
    "pd.DataFrame($\\color{orangered}{\\text{map}}$)  <br/>\n",
    "***\n",
    "\n",
    "\n",
    "\n",
    "<div class=\"alert alert-block alert-info\">\n",
    "(1) Methods of correlation (‘<code>method</code>’):<br/>\n",
    "    * <code>pearson</code>: standard correlation coefficient<br/>\n",
    "    * <code>kendall</code>: Kendall Tau correlation coefficient<br/>\n",
    "    * <code>spearman</code>: Spearman rank correlation<br/>\n",
    "<code>Round()</code> sets the digits after the decimal point we want to keep <br/>\n",
    "(2) Because the output is a dataframe, not a plot, we cannot save this correlation matrix as a png like what we have done.\n",
    "</div>\n",
    "\n",
    "<img src='https://github.com/JQi-14/GRADDataAnalysis/blob/main/correlation%20selector.jpg?raw=true' width=600 align='left'>\n",
    "\n",
    "<img src='https://github.com/JQi-14/GRADDataAnalysis/blob/main/correlation%20matrix.png?raw=true' width=400 align='left'>\n",
    "\n"
   ]
  },
  {
   "cell_type": "markdown",
   "id": "881ce3d2",
   "metadata": {},
   "source": [
    "**To-do**\n",
    "* <ins>Keep three digits after the decimal point\n",
    "* <ins>Explore the results using a different correlation method\n",
    "* <ins>Interpret the results, note that 1 and -1 indicate the strongest linear correlations in the opposite direction"
   ]
  },
  {
   "cell_type": "code",
   "execution_count": null,
   "id": "355f1b72",
   "metadata": {
    "scrolled": true
   },
   "outputs": [],
   "source": [
    "map=num_set.corr(method ='pearson').round(2)\n",
    "pd.DataFrame(map)"
   ]
  },
  {
   "cell_type": "markdown",
   "id": "cd37569c",
   "metadata": {},
   "source": [
    "[Go to Top](#top)\n",
    "***\n",
    "<a id='Epi'></a>\n",
    "<font face=\"Script MT Bold\" size=\"6\" color=goldenrod> **Conclusion** </font></br>\n",
    "\n",
    "\n",
    "\n",
    "<img src='https://github.com/JQi-14/GRADDataAnalysis/blob/main/fish%20vs%20fishing.png?raw=true' width = 500 align=\"right\">\n",
    "<br/>\n",
    "<font size=\"5\">$\\color{steelblue}{\\text{It is okay to feel a little overwhelmed!}}$</font><br/>\n",
    "\n",
    "<br/>\n",
    "<font size=\"5\">$\\color{steelblue}{\\text{You were given loads of fish}}$<br/> $\\color{steelblue}{\\text{(pythons?) today after all}}$</font><br/>\n",
    "<br/>\n",
    "\n",
    "<font size=\"5\">$\\color{steelblue}{\\text{Next, you can learn how to fish}}$<br/> $\\color{steelblue}{\\text{(Python) if you are ready to}}$<br/> $\\color{steelblue}{\\text{venture}}$</font><br/>\n",
    "<br/>\n",
    " \n",
    "ChatGPT can be your BFF for coding! https://chat.openai.com/chat<br/>\n",
    "Stack Overflow https://stackoverflow.com/ <br/>\n",
    "Matplotlib https://matplotlib.org/stable/plot_types/index <br/>\n",
    "pandas https://pandas.pydata.org/ <br/>\n",
    "Seaborn https://seaborn.pydata.org/examples/index.html <br/>\n",
    "Plotly https://plotly.com/python/\n",
    "<br/>\n",
    "\n",
    "  \n",
    "#### <font color=green>Other Cool Plots with Python\n",
    "https://www.python-graph-gallery.com/scatterplot-with-regression-fit-in-matplotlib<br/>\n",
    "https://www.python-graph-gallery.com/391-radar-chart-with-several-individuals <br/>\n",
    "https://www.python-graph-gallery.com/basic-sankey-diagram-with-pysankey <br/>\n",
    "https://www.python-graph-gallery.com/ridgeline/ \n",
    "    \n",
    "#### <font color=green>Recommended Reading:\n",
    "If you want to make your workflow more efficient with Python. I highly recommend this book. The only drawback (for beginners) is that it uses a different Python interpreter other than Jupyter Notebook.<br/>**Sweigart, Al.** *Automate the boring stuff with Python: practical programming for total beginners*. No Starch Press, 2019.<br/>\n",
    "\n",
    "The material covered by this book can also be accessed for free on YouTube.<br/> https://youtube.com/playlist?list=PL0-84-yl1fUnRuXGFe_F7qSH1LEnn9LkW \n",
    "\n",
    "#### <font color=green>Subplots() vs Figure()\n",
    "Subplots() is more useful when you are trying to group different types of plots to make it dashboard-looking, or you want to save space for the output in the notebook. \n",
    "\n",
    "\n",
    "<img src='https://github.com/JQi-14/GRADDataAnalysis/blob/main/subplots%20vs%20figure.png?raw=true' width=800 align='left'>"
   ]
  },
  {
   "cell_type": "markdown",
   "id": "357d4452",
   "metadata": {},
   "source": [
    "[Go to Top](#top)\n",
    "***\n",
    "<a id='ref'></a>\n",
    "<font face=\"Script MT Bold\" size=\"6\" color=goldenrod> **References & Image Sources** </font></br>\n",
    "* Python & python: https://i.etsystatic.com/14699446/r/il/b94c8f/3992111040/il_1588xN.3992111040_rg4u.jpg </br>\n",
    "https://upload.wikimedia.org/wikipedia/commons/thumb/c/c3/Python-logo-notext.svg/1200px-Python-logo-notext.svg.png </br>\n",
    "* Iris Flowers: https://editor.analyticsvidhya.com/uploads/51518iris%20img1.png  \n",
    "* Box Plot: https://hossainlab.github.io/dataviz/notebooks/SB02-Categorical%20Plots.html  </br>\n",
    "Further reading on box plots: https://www.analyticsvidhya.com/blog/2020/07/univariate-analysis-visualization-with-illustrations-in-python/ </br>\n",
    "https://media.geeksforgeeks.org/wp-content/uploads/20201118160203/outliers.png\n",
    "* Violin Plot: https://www.python-graph-gallery.com/violin-plot/<br/>\n",
    "https://matplotlib.org/stable/api/_as_gen/matplotlib.pyplot.violinplot.html#matplotlib.pyplot.violinplot <br/>\n",
    "https://images.ctfassets.net/fi0zmnwlsnja/sdfgtcRp16wTNOcRceGQm/5bfcb73d2261d49ff20dd7857e0152b1/Screen_Shot_2019-03-01_at_11.36.10_AM.png <br/>\n",
    "* Pie Chart: https://matplotlib.org/stable/gallery/pie_and_polar_charts/pie_features.html\n",
    "* Lollipop Chart: https://www.data-to-viz.com/graph/lollipop.html\n",
    "* Pirewise Scatter Plot: https://pandas.pydata.org/docs/reference/api/pandas.plotting.scatter_matrix.html<br/>\n",
    "https://www.quora.com/What-is-a-pairwise-scatter-plot?share=1<br/>\n",
    "Interpretation pitfalls: https://scikit-learn.org/stable/auto_examples/inspection/plot_linear_model_coefficient_interpretation.html#sphx-glr-auto-examples-inspection-plot-linear-model-coefficient-interpretation-py<br/>\n",
    "Subplot style: https://www.python-graph-gallery.com/how-to-remove-axis-in-matplotlib\n",
    "* t-test: https://stats.oarc.ucla.edu/spss/output/t-test/\n",
    "* Levene test: https://real-statistics.com/one-way-analysis-of-variance-anova/homogeneity-variances/levenes-test/\n",
    "* Shapiro-Wilk test: https://docs.scipy.org/doc/scipy/reference/generated/scipy.stats.shapiro.html#id1<br/>\n",
    "https://real-statistics.com/tests-normality-and-symmetry/statistical-tests-normality-symmetry/shapiro-wilk-expanded-test/<br/>\n",
    "* ANOVA: https://www.reneshbedre.com/blog/anova.html<br/>\n",
    "* Welch ANOVA: https://pingouin-stats.org/build/html/generated/pingouin.welch_anova.html#pingouin.welch_anova<br/>\n",
    "Theoretical: https://real-statistics.com/one-way-analysis-of-variance-anova/welchs-procedure/\n",
    "* Parallel Coorinates Plot: https://pandas.pydata.org/docs/reference/api/pandas.plotting.parallel_coordinates.html<br/>\n",
    "Advanced with plotly (multiple axis scales): https://plotly.com/python/parallel-coordinates-plot/<br/>\n",
    "Theoretical Reference: https://datavizcatalogue.com/methods/parallel_coordinates.html<br/>\n",
    "* Correlation Matrix: https://pandas.pydata.org/pandas-docs/stable/reference/api/pandas.DataFrame.corr.html<br/>\n",
    "Better ones with seaborn: https://seaborn.pydata.org/examples/many_pairwise_correlations.html\n",
    "* Correlation method selector: **Brownlee, Jason**. *Data preparation for machine learning: data cleaning, feature selection, and data transforms in Python*. Machine Learning Mastery, 2020.\n",
    "* Stacked/Grouped Histogram by a Categorical Variable: https://matplotlib.org/stable/gallery/statistics/histogram_multihist.html<br/>\n",
    "Create sub-datasets https://statisticsglobe.com/select-rows-pandas-dataframe-condition-python<br/>\n",
    "Stacked histgram https://matplotlib.org/stable/gallery/statistics/histogram_multihist.html<br/>\n",
    "Easier with seaborn https://seaborn.pydata.org/examples/histogram_stacked.html\n",
    "* Fishing image: https://static.vecteezy.com/system/resources/previews/000/210/712/original/vector-fly-fisherman-fishing.jpg \n",
    "* Make Matplotlib plots fancy: https://www.python-graph-gallery.com/web-text-repel-with-matplotlib<br/>https://matplotlib.org/stable/gallery/subplots_axes_and_figures/figure_title.html<br/>\n",
    "* Annotate the data points: https://queirozf.com/entries/add-labels-and-text-to-matplotlib-plots-annotation-examples<br/>https://towardsdatascience.com/how-to-add-text-labels-to-scatterplot-in-matplotlib-seaborn-ec5df6afed7a<br/>\n",
    "* Labeling subplots: https://matplotlib.org/stable/gallery/text_labels_and_annotations/label_subplots.html<br/>"
   ]
  }
 ],
 "metadata": {
  "kernelspec": {
   "display_name": "Python 3 (ipykernel)",
   "language": "python",
   "name": "python3"
  },
  "language_info": {
   "codemirror_mode": {
    "name": "ipython",
    "version": 3
   },
   "file_extension": ".py",
   "mimetype": "text/x-python",
   "name": "python",
   "nbconvert_exporter": "python",
   "pygments_lexer": "ipython3",
   "version": "3.9.13"
  }
 },
 "nbformat": 4,
 "nbformat_minor": 5
}
